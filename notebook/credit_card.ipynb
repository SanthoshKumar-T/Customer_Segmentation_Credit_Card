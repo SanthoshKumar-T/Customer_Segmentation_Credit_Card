{
 "cells": [
  {
   "cell_type": "markdown",
   "metadata": {},
   "source": [
    "## Problem Statement\n",
    "\n",
    "<b> This case requires to develop a customer segmentation to define marketing strategy. The\n",
    "sample Dataset summarizes the usage behavior of about 9000 active credit card holders during the last 6 months. The file is at a customer level with 18 behavioral variables.\n",
    "\n"
   ]
  },
  {
   "cell_type": "code",
   "execution_count": 1,
   "metadata": {
    "id": "kupHtK31x13z"
   },
   "outputs": [],
   "source": [
    "import pandas as pd\n",
    "import numpy as np\n",
    "import matplotlib.pyplot as plt\n",
    "import seaborn as sns\n",
    "from sklearn.preprocessing import StandardScaler, MinMaxScaler"
   ]
  },
  {
   "cell_type": "code",
   "execution_count": 2,
   "metadata": {
    "colab": {
     "base_uri": "https://localhost:8080/",
     "height": 270
    },
    "id": "b-xjMilK1zU-",
    "outputId": "d3cf2ca0-9ca5-4ee9-f4bc-84571ca88191"
   },
   "outputs": [
    {
     "data": {
      "text/html": [
       "<div>\n",
       "<style scoped>\n",
       "    .dataframe tbody tr th:only-of-type {\n",
       "        vertical-align: middle;\n",
       "    }\n",
       "\n",
       "    .dataframe tbody tr th {\n",
       "        vertical-align: top;\n",
       "    }\n",
       "\n",
       "    .dataframe thead th {\n",
       "        text-align: right;\n",
       "    }\n",
       "</style>\n",
       "<table border=\"1\" class=\"dataframe\">\n",
       "  <thead>\n",
       "    <tr style=\"text-align: right;\">\n",
       "      <th></th>\n",
       "      <th>CUST_ID</th>\n",
       "      <th>BALANCE</th>\n",
       "      <th>BALANCE_FREQUENCY</th>\n",
       "      <th>PURCHASES</th>\n",
       "      <th>ONEOFF_PURCHASES</th>\n",
       "      <th>INSTALLMENTS_PURCHASES</th>\n",
       "      <th>CASH_ADVANCE</th>\n",
       "      <th>PURCHASES_FREQUENCY</th>\n",
       "      <th>ONEOFF_PURCHASES_FREQUENCY</th>\n",
       "      <th>PURCHASES_INSTALLMENTS_FREQUENCY</th>\n",
       "      <th>CASH_ADVANCE_FREQUENCY</th>\n",
       "      <th>CASH_ADVANCE_TRX</th>\n",
       "      <th>PURCHASES_TRX</th>\n",
       "      <th>CREDIT_LIMIT</th>\n",
       "      <th>PAYMENTS</th>\n",
       "      <th>MINIMUM_PAYMENTS</th>\n",
       "      <th>PRC_FULL_PAYMENT</th>\n",
       "      <th>TENURE</th>\n",
       "    </tr>\n",
       "  </thead>\n",
       "  <tbody>\n",
       "    <tr>\n",
       "      <th>0</th>\n",
       "      <td>C10001</td>\n",
       "      <td>40.900749</td>\n",
       "      <td>0.818182</td>\n",
       "      <td>95.40</td>\n",
       "      <td>0.00</td>\n",
       "      <td>95.4</td>\n",
       "      <td>0.000000</td>\n",
       "      <td>0.166667</td>\n",
       "      <td>0.000000</td>\n",
       "      <td>0.083333</td>\n",
       "      <td>0.000000</td>\n",
       "      <td>0</td>\n",
       "      <td>2</td>\n",
       "      <td>1000.0</td>\n",
       "      <td>201.802084</td>\n",
       "      <td>139.509787</td>\n",
       "      <td>0.000000</td>\n",
       "      <td>12</td>\n",
       "    </tr>\n",
       "    <tr>\n",
       "      <th>1</th>\n",
       "      <td>C10002</td>\n",
       "      <td>3202.467416</td>\n",
       "      <td>0.909091</td>\n",
       "      <td>0.00</td>\n",
       "      <td>0.00</td>\n",
       "      <td>0.0</td>\n",
       "      <td>6442.945483</td>\n",
       "      <td>0.000000</td>\n",
       "      <td>0.000000</td>\n",
       "      <td>0.000000</td>\n",
       "      <td>0.250000</td>\n",
       "      <td>4</td>\n",
       "      <td>0</td>\n",
       "      <td>7000.0</td>\n",
       "      <td>4103.032597</td>\n",
       "      <td>1072.340217</td>\n",
       "      <td>0.222222</td>\n",
       "      <td>12</td>\n",
       "    </tr>\n",
       "    <tr>\n",
       "      <th>2</th>\n",
       "      <td>C10003</td>\n",
       "      <td>2495.148862</td>\n",
       "      <td>1.000000</td>\n",
       "      <td>773.17</td>\n",
       "      <td>773.17</td>\n",
       "      <td>0.0</td>\n",
       "      <td>0.000000</td>\n",
       "      <td>1.000000</td>\n",
       "      <td>1.000000</td>\n",
       "      <td>0.000000</td>\n",
       "      <td>0.000000</td>\n",
       "      <td>0</td>\n",
       "      <td>12</td>\n",
       "      <td>7500.0</td>\n",
       "      <td>622.066742</td>\n",
       "      <td>627.284787</td>\n",
       "      <td>0.000000</td>\n",
       "      <td>12</td>\n",
       "    </tr>\n",
       "    <tr>\n",
       "      <th>3</th>\n",
       "      <td>C10004</td>\n",
       "      <td>1666.670542</td>\n",
       "      <td>0.636364</td>\n",
       "      <td>1499.00</td>\n",
       "      <td>1499.00</td>\n",
       "      <td>0.0</td>\n",
       "      <td>205.788017</td>\n",
       "      <td>0.083333</td>\n",
       "      <td>0.083333</td>\n",
       "      <td>0.000000</td>\n",
       "      <td>0.083333</td>\n",
       "      <td>1</td>\n",
       "      <td>1</td>\n",
       "      <td>7500.0</td>\n",
       "      <td>0.000000</td>\n",
       "      <td>NaN</td>\n",
       "      <td>0.000000</td>\n",
       "      <td>12</td>\n",
       "    </tr>\n",
       "    <tr>\n",
       "      <th>4</th>\n",
       "      <td>C10005</td>\n",
       "      <td>817.714335</td>\n",
       "      <td>1.000000</td>\n",
       "      <td>16.00</td>\n",
       "      <td>16.00</td>\n",
       "      <td>0.0</td>\n",
       "      <td>0.000000</td>\n",
       "      <td>0.083333</td>\n",
       "      <td>0.083333</td>\n",
       "      <td>0.000000</td>\n",
       "      <td>0.000000</td>\n",
       "      <td>0</td>\n",
       "      <td>1</td>\n",
       "      <td>1200.0</td>\n",
       "      <td>678.334763</td>\n",
       "      <td>244.791237</td>\n",
       "      <td>0.000000</td>\n",
       "      <td>12</td>\n",
       "    </tr>\n",
       "  </tbody>\n",
       "</table>\n",
       "</div>"
      ],
      "text/plain": [
       "  CUST_ID      BALANCE  BALANCE_FREQUENCY  PURCHASES  ONEOFF_PURCHASES  \\\n",
       "0  C10001    40.900749           0.818182      95.40              0.00   \n",
       "1  C10002  3202.467416           0.909091       0.00              0.00   \n",
       "2  C10003  2495.148862           1.000000     773.17            773.17   \n",
       "3  C10004  1666.670542           0.636364    1499.00           1499.00   \n",
       "4  C10005   817.714335           1.000000      16.00             16.00   \n",
       "\n",
       "   INSTALLMENTS_PURCHASES  CASH_ADVANCE  PURCHASES_FREQUENCY  \\\n",
       "0                    95.4      0.000000             0.166667   \n",
       "1                     0.0   6442.945483             0.000000   \n",
       "2                     0.0      0.000000             1.000000   \n",
       "3                     0.0    205.788017             0.083333   \n",
       "4                     0.0      0.000000             0.083333   \n",
       "\n",
       "   ONEOFF_PURCHASES_FREQUENCY  PURCHASES_INSTALLMENTS_FREQUENCY  \\\n",
       "0                    0.000000                          0.083333   \n",
       "1                    0.000000                          0.000000   \n",
       "2                    1.000000                          0.000000   \n",
       "3                    0.083333                          0.000000   \n",
       "4                    0.083333                          0.000000   \n",
       "\n",
       "   CASH_ADVANCE_FREQUENCY  CASH_ADVANCE_TRX  PURCHASES_TRX  CREDIT_LIMIT  \\\n",
       "0                0.000000                 0              2        1000.0   \n",
       "1                0.250000                 4              0        7000.0   \n",
       "2                0.000000                 0             12        7500.0   \n",
       "3                0.083333                 1              1        7500.0   \n",
       "4                0.000000                 0              1        1200.0   \n",
       "\n",
       "      PAYMENTS  MINIMUM_PAYMENTS  PRC_FULL_PAYMENT  TENURE  \n",
       "0   201.802084        139.509787          0.000000      12  \n",
       "1  4103.032597       1072.340217          0.222222      12  \n",
       "2   622.066742        627.284787          0.000000      12  \n",
       "3     0.000000               NaN          0.000000      12  \n",
       "4   678.334763        244.791237          0.000000      12  "
      ]
     },
     "execution_count": 2,
     "metadata": {},
     "output_type": "execute_result"
    }
   ],
   "source": [
    "df = pd.read_csv(\"Credit_Card_Data.csv\")\n",
    "df.head()"
   ]
  },
  {
   "cell_type": "code",
   "execution_count": 3,
   "metadata": {
    "colab": {
     "base_uri": "https://localhost:8080/"
    },
    "id": "D2iy04Mg2VTG",
    "outputId": "bff64263-c024-4dcb-fcff-7ccfa3ba91f8"
   },
   "outputs": [
    {
     "name": "stdout",
     "output_type": "stream",
     "text": [
      "<class 'pandas.core.frame.DataFrame'>\n",
      "RangeIndex: 8950 entries, 0 to 8949\n",
      "Data columns (total 18 columns):\n",
      " #   Column                            Non-Null Count  Dtype  \n",
      "---  ------                            --------------  -----  \n",
      " 0   CUST_ID                           8950 non-null   object \n",
      " 1   BALANCE                           8950 non-null   float64\n",
      " 2   BALANCE_FREQUENCY                 8950 non-null   float64\n",
      " 3   PURCHASES                         8950 non-null   float64\n",
      " 4   ONEOFF_PURCHASES                  8950 non-null   float64\n",
      " 5   INSTALLMENTS_PURCHASES            8950 non-null   float64\n",
      " 6   CASH_ADVANCE                      8950 non-null   float64\n",
      " 7   PURCHASES_FREQUENCY               8950 non-null   float64\n",
      " 8   ONEOFF_PURCHASES_FREQUENCY        8950 non-null   float64\n",
      " 9   PURCHASES_INSTALLMENTS_FREQUENCY  8950 non-null   float64\n",
      " 10  CASH_ADVANCE_FREQUENCY            8950 non-null   float64\n",
      " 11  CASH_ADVANCE_TRX                  8950 non-null   int64  \n",
      " 12  PURCHASES_TRX                     8950 non-null   int64  \n",
      " 13  CREDIT_LIMIT                      8949 non-null   float64\n",
      " 14  PAYMENTS                          8950 non-null   float64\n",
      " 15  MINIMUM_PAYMENTS                  8637 non-null   float64\n",
      " 16  PRC_FULL_PAYMENT                  8950 non-null   float64\n",
      " 17  TENURE                            8950 non-null   int64  \n",
      "dtypes: float64(14), int64(3), object(1)\n",
      "memory usage: 1.2+ MB\n"
     ]
    }
   ],
   "source": [
    "df.info()"
   ]
  },
  {
   "cell_type": "code",
   "execution_count": 4,
   "metadata": {
    "colab": {
     "base_uri": "https://localhost:8080/",
     "height": 364
    },
    "id": "g0cbiI4a2aGM",
    "outputId": "caa40578-e59d-4459-d25e-ceccdacd012b"
   },
   "outputs": [
    {
     "data": {
      "text/html": [
       "<div>\n",
       "<style scoped>\n",
       "    .dataframe tbody tr th:only-of-type {\n",
       "        vertical-align: middle;\n",
       "    }\n",
       "\n",
       "    .dataframe tbody tr th {\n",
       "        vertical-align: top;\n",
       "    }\n",
       "\n",
       "    .dataframe thead th {\n",
       "        text-align: right;\n",
       "    }\n",
       "</style>\n",
       "<table border=\"1\" class=\"dataframe\">\n",
       "  <thead>\n",
       "    <tr style=\"text-align: right;\">\n",
       "      <th></th>\n",
       "      <th>BALANCE</th>\n",
       "      <th>BALANCE_FREQUENCY</th>\n",
       "      <th>PURCHASES</th>\n",
       "      <th>ONEOFF_PURCHASES</th>\n",
       "      <th>INSTALLMENTS_PURCHASES</th>\n",
       "      <th>CASH_ADVANCE</th>\n",
       "      <th>PURCHASES_FREQUENCY</th>\n",
       "      <th>ONEOFF_PURCHASES_FREQUENCY</th>\n",
       "      <th>PURCHASES_INSTALLMENTS_FREQUENCY</th>\n",
       "      <th>CASH_ADVANCE_FREQUENCY</th>\n",
       "      <th>CASH_ADVANCE_TRX</th>\n",
       "      <th>PURCHASES_TRX</th>\n",
       "      <th>CREDIT_LIMIT</th>\n",
       "      <th>PAYMENTS</th>\n",
       "      <th>MINIMUM_PAYMENTS</th>\n",
       "      <th>PRC_FULL_PAYMENT</th>\n",
       "      <th>TENURE</th>\n",
       "    </tr>\n",
       "  </thead>\n",
       "  <tbody>\n",
       "    <tr>\n",
       "      <th>count</th>\n",
       "      <td>8950.000000</td>\n",
       "      <td>8950.000000</td>\n",
       "      <td>8950.000000</td>\n",
       "      <td>8950.000000</td>\n",
       "      <td>8950.000000</td>\n",
       "      <td>8950.000000</td>\n",
       "      <td>8950.000000</td>\n",
       "      <td>8950.000000</td>\n",
       "      <td>8950.000000</td>\n",
       "      <td>8950.000000</td>\n",
       "      <td>8950.000000</td>\n",
       "      <td>8950.000000</td>\n",
       "      <td>8949.000000</td>\n",
       "      <td>8950.000000</td>\n",
       "      <td>8637.000000</td>\n",
       "      <td>8950.000000</td>\n",
       "      <td>8950.000000</td>\n",
       "    </tr>\n",
       "    <tr>\n",
       "      <th>mean</th>\n",
       "      <td>1564.474828</td>\n",
       "      <td>0.877271</td>\n",
       "      <td>1003.204834</td>\n",
       "      <td>592.437371</td>\n",
       "      <td>411.067645</td>\n",
       "      <td>978.871112</td>\n",
       "      <td>0.490351</td>\n",
       "      <td>0.202458</td>\n",
       "      <td>0.364437</td>\n",
       "      <td>0.135144</td>\n",
       "      <td>3.248827</td>\n",
       "      <td>14.709832</td>\n",
       "      <td>4494.449450</td>\n",
       "      <td>1733.143852</td>\n",
       "      <td>864.206542</td>\n",
       "      <td>0.153715</td>\n",
       "      <td>11.517318</td>\n",
       "    </tr>\n",
       "    <tr>\n",
       "      <th>std</th>\n",
       "      <td>2081.531879</td>\n",
       "      <td>0.236904</td>\n",
       "      <td>2136.634782</td>\n",
       "      <td>1659.887917</td>\n",
       "      <td>904.338115</td>\n",
       "      <td>2097.163877</td>\n",
       "      <td>0.401371</td>\n",
       "      <td>0.298336</td>\n",
       "      <td>0.397448</td>\n",
       "      <td>0.200121</td>\n",
       "      <td>6.824647</td>\n",
       "      <td>24.857649</td>\n",
       "      <td>3638.815725</td>\n",
       "      <td>2895.063757</td>\n",
       "      <td>2372.446607</td>\n",
       "      <td>0.292499</td>\n",
       "      <td>1.338331</td>\n",
       "    </tr>\n",
       "    <tr>\n",
       "      <th>min</th>\n",
       "      <td>0.000000</td>\n",
       "      <td>0.000000</td>\n",
       "      <td>0.000000</td>\n",
       "      <td>0.000000</td>\n",
       "      <td>0.000000</td>\n",
       "      <td>0.000000</td>\n",
       "      <td>0.000000</td>\n",
       "      <td>0.000000</td>\n",
       "      <td>0.000000</td>\n",
       "      <td>0.000000</td>\n",
       "      <td>0.000000</td>\n",
       "      <td>0.000000</td>\n",
       "      <td>50.000000</td>\n",
       "      <td>0.000000</td>\n",
       "      <td>0.019163</td>\n",
       "      <td>0.000000</td>\n",
       "      <td>6.000000</td>\n",
       "    </tr>\n",
       "    <tr>\n",
       "      <th>25%</th>\n",
       "      <td>128.281915</td>\n",
       "      <td>0.888889</td>\n",
       "      <td>39.635000</td>\n",
       "      <td>0.000000</td>\n",
       "      <td>0.000000</td>\n",
       "      <td>0.000000</td>\n",
       "      <td>0.083333</td>\n",
       "      <td>0.000000</td>\n",
       "      <td>0.000000</td>\n",
       "      <td>0.000000</td>\n",
       "      <td>0.000000</td>\n",
       "      <td>1.000000</td>\n",
       "      <td>1600.000000</td>\n",
       "      <td>383.276166</td>\n",
       "      <td>169.123707</td>\n",
       "      <td>0.000000</td>\n",
       "      <td>12.000000</td>\n",
       "    </tr>\n",
       "    <tr>\n",
       "      <th>50%</th>\n",
       "      <td>873.385231</td>\n",
       "      <td>1.000000</td>\n",
       "      <td>361.280000</td>\n",
       "      <td>38.000000</td>\n",
       "      <td>89.000000</td>\n",
       "      <td>0.000000</td>\n",
       "      <td>0.500000</td>\n",
       "      <td>0.083333</td>\n",
       "      <td>0.166667</td>\n",
       "      <td>0.000000</td>\n",
       "      <td>0.000000</td>\n",
       "      <td>7.000000</td>\n",
       "      <td>3000.000000</td>\n",
       "      <td>856.901546</td>\n",
       "      <td>312.343947</td>\n",
       "      <td>0.000000</td>\n",
       "      <td>12.000000</td>\n",
       "    </tr>\n",
       "    <tr>\n",
       "      <th>75%</th>\n",
       "      <td>2054.140036</td>\n",
       "      <td>1.000000</td>\n",
       "      <td>1110.130000</td>\n",
       "      <td>577.405000</td>\n",
       "      <td>468.637500</td>\n",
       "      <td>1113.821139</td>\n",
       "      <td>0.916667</td>\n",
       "      <td>0.300000</td>\n",
       "      <td>0.750000</td>\n",
       "      <td>0.222222</td>\n",
       "      <td>4.000000</td>\n",
       "      <td>17.000000</td>\n",
       "      <td>6500.000000</td>\n",
       "      <td>1901.134317</td>\n",
       "      <td>825.485459</td>\n",
       "      <td>0.142857</td>\n",
       "      <td>12.000000</td>\n",
       "    </tr>\n",
       "    <tr>\n",
       "      <th>max</th>\n",
       "      <td>19043.138560</td>\n",
       "      <td>1.000000</td>\n",
       "      <td>49039.570000</td>\n",
       "      <td>40761.250000</td>\n",
       "      <td>22500.000000</td>\n",
       "      <td>47137.211760</td>\n",
       "      <td>1.000000</td>\n",
       "      <td>1.000000</td>\n",
       "      <td>1.000000</td>\n",
       "      <td>1.500000</td>\n",
       "      <td>123.000000</td>\n",
       "      <td>358.000000</td>\n",
       "      <td>30000.000000</td>\n",
       "      <td>50721.483360</td>\n",
       "      <td>76406.207520</td>\n",
       "      <td>1.000000</td>\n",
       "      <td>12.000000</td>\n",
       "    </tr>\n",
       "  </tbody>\n",
       "</table>\n",
       "</div>"
      ],
      "text/plain": [
       "            BALANCE  BALANCE_FREQUENCY     PURCHASES  ONEOFF_PURCHASES  \\\n",
       "count   8950.000000        8950.000000   8950.000000       8950.000000   \n",
       "mean    1564.474828           0.877271   1003.204834        592.437371   \n",
       "std     2081.531879           0.236904   2136.634782       1659.887917   \n",
       "min        0.000000           0.000000      0.000000          0.000000   \n",
       "25%      128.281915           0.888889     39.635000          0.000000   \n",
       "50%      873.385231           1.000000    361.280000         38.000000   \n",
       "75%     2054.140036           1.000000   1110.130000        577.405000   \n",
       "max    19043.138560           1.000000  49039.570000      40761.250000   \n",
       "\n",
       "       INSTALLMENTS_PURCHASES  CASH_ADVANCE  PURCHASES_FREQUENCY  \\\n",
       "count             8950.000000   8950.000000          8950.000000   \n",
       "mean               411.067645    978.871112             0.490351   \n",
       "std                904.338115   2097.163877             0.401371   \n",
       "min                  0.000000      0.000000             0.000000   \n",
       "25%                  0.000000      0.000000             0.083333   \n",
       "50%                 89.000000      0.000000             0.500000   \n",
       "75%                468.637500   1113.821139             0.916667   \n",
       "max              22500.000000  47137.211760             1.000000   \n",
       "\n",
       "       ONEOFF_PURCHASES_FREQUENCY  PURCHASES_INSTALLMENTS_FREQUENCY  \\\n",
       "count                 8950.000000                       8950.000000   \n",
       "mean                     0.202458                          0.364437   \n",
       "std                      0.298336                          0.397448   \n",
       "min                      0.000000                          0.000000   \n",
       "25%                      0.000000                          0.000000   \n",
       "50%                      0.083333                          0.166667   \n",
       "75%                      0.300000                          0.750000   \n",
       "max                      1.000000                          1.000000   \n",
       "\n",
       "       CASH_ADVANCE_FREQUENCY  CASH_ADVANCE_TRX  PURCHASES_TRX  CREDIT_LIMIT  \\\n",
       "count             8950.000000       8950.000000    8950.000000   8949.000000   \n",
       "mean                 0.135144          3.248827      14.709832   4494.449450   \n",
       "std                  0.200121          6.824647      24.857649   3638.815725   \n",
       "min                  0.000000          0.000000       0.000000     50.000000   \n",
       "25%                  0.000000          0.000000       1.000000   1600.000000   \n",
       "50%                  0.000000          0.000000       7.000000   3000.000000   \n",
       "75%                  0.222222          4.000000      17.000000   6500.000000   \n",
       "max                  1.500000        123.000000     358.000000  30000.000000   \n",
       "\n",
       "           PAYMENTS  MINIMUM_PAYMENTS  PRC_FULL_PAYMENT       TENURE  \n",
       "count   8950.000000       8637.000000       8950.000000  8950.000000  \n",
       "mean    1733.143852        864.206542          0.153715    11.517318  \n",
       "std     2895.063757       2372.446607          0.292499     1.338331  \n",
       "min        0.000000          0.019163          0.000000     6.000000  \n",
       "25%      383.276166        169.123707          0.000000    12.000000  \n",
       "50%      856.901546        312.343947          0.000000    12.000000  \n",
       "75%     1901.134317        825.485459          0.142857    12.000000  \n",
       "max    50721.483360      76406.207520          1.000000    12.000000  "
      ]
     },
     "execution_count": 4,
     "metadata": {},
     "output_type": "execute_result"
    }
   ],
   "source": [
    "df.describe()"
   ]
  },
  {
   "cell_type": "markdown",
   "metadata": {
    "id": "I3JF9VCzAKMR"
   },
   "source": [
    "# Handling missing"
   ]
  },
  {
   "cell_type": "code",
   "execution_count": 5,
   "metadata": {
    "colab": {
     "base_uri": "https://localhost:8080/"
    },
    "id": "JqFznsmP3Opj",
    "outputId": "ba91c55f-70b6-469e-dc57-020045c8bdde"
   },
   "outputs": [
    {
     "data": {
      "text/plain": [
       "MINIMUM_PAYMENTS                    3.497207\n",
       "CREDIT_LIMIT                        0.011173\n",
       "CUST_ID                             0.000000\n",
       "BALANCE                             0.000000\n",
       "PRC_FULL_PAYMENT                    0.000000\n",
       "PAYMENTS                            0.000000\n",
       "PURCHASES_TRX                       0.000000\n",
       "CASH_ADVANCE_TRX                    0.000000\n",
       "CASH_ADVANCE_FREQUENCY              0.000000\n",
       "PURCHASES_INSTALLMENTS_FREQUENCY    0.000000\n",
       "ONEOFF_PURCHASES_FREQUENCY          0.000000\n",
       "PURCHASES_FREQUENCY                 0.000000\n",
       "CASH_ADVANCE                        0.000000\n",
       "INSTALLMENTS_PURCHASES              0.000000\n",
       "ONEOFF_PURCHASES                    0.000000\n",
       "PURCHASES                           0.000000\n",
       "BALANCE_FREQUENCY                   0.000000\n",
       "TENURE                              0.000000\n",
       "dtype: float64"
      ]
     },
     "execution_count": 5,
     "metadata": {},
     "output_type": "execute_result"
    }
   ],
   "source": [
    "#Missing value in terms of percentage\n",
    "(df.isnull().sum().sort_values(ascending=False)/len(df))*100"
   ]
  },
  {
   "cell_type": "code",
   "execution_count": 6,
   "metadata": {
    "colab": {
     "base_uri": "https://localhost:8080/",
     "height": 287
    },
    "id": "MGWvVa-H3wAV",
    "outputId": "7aecacf2-3994-4e38-a59f-30da03be3b4f"
   },
   "outputs": [
    {
     "data": {
      "text/plain": [
       "<AxesSubplot:>"
      ]
     },
     "execution_count": 6,
     "metadata": {},
     "output_type": "execute_result"
    },
    {
     "data": {
      "image/png": "[encoded data removed]",
      "text/plain": [
       "<Figure size 432x288 with 1 Axes>"
      ]
     },
     "metadata": {
      "needs_background": "light"
     },
     "output_type": "display_data"
    }
   ],
   "source": [
    "# df['MINIMUM_PAYMENTS'].hist(bins=25)\n",
    "df.boxplot(column =['MINIMUM_PAYMENTS'], grid = False)"
   ]
  },
  {
   "cell_type": "markdown",
   "metadata": {
    "id": "y8KVi1-H4lQu"
   },
   "source": [
    "There are lot of outliers in the column. Hence imputing with median value is a better choice"
   ]
  },
  {
   "cell_type": "code",
   "execution_count": 7,
   "metadata": {
    "id": "PZI1QIgG4xlu"
   },
   "outputs": [],
   "source": [
    "df['MINIMUM_PAYMENTS'].fillna(df['MINIMUM_PAYMENTS'].median(), inplace=True)"
   ]
  },
  {
   "cell_type": "code",
   "execution_count": 8,
   "metadata": {
    "colab": {
     "base_uri": "https://localhost:8080/",
     "height": 283
    },
    "id": "LC5ckWKX49er",
    "outputId": "f6b34c59-c498-425d-d0d0-400437457c81"
   },
   "outputs": [
    {
     "data": {
      "text/plain": [
       "<AxesSubplot:>"
      ]
     },
     "execution_count": 8,
     "metadata": {},
     "output_type": "execute_result"
    },
    {
     "data": {
      "image/png": "[encoded data removed]",
      "text/plain": [
       "<Figure size 432x288 with 1 Axes>"
      ]
     },
     "metadata": {
      "needs_background": "light"
     },
     "output_type": "display_data"
    }
   ],
   "source": [
    "df.boxplot(column =['CREDIT_LIMIT'], grid = False)"
   ]
  },
  {
   "cell_type": "markdown",
   "metadata": {
    "id": "_0DSDbir_iuK"
   },
   "source": [
    "There are lot of outliers in the column. Hence imputing with median value is a better choice"
   ]
  },
  {
   "cell_type": "code",
   "execution_count": 9,
   "metadata": {
    "id": "__6tAqS45MDd"
   },
   "outputs": [],
   "source": [
    "df['CREDIT_LIMIT'].fillna(df['CREDIT_LIMIT'].median(), inplace=True)"
   ]
  },
  {
   "cell_type": "code",
   "execution_count": 10,
   "metadata": {
    "colab": {
     "base_uri": "https://localhost:8080/"
    },
    "id": "RXlTsGD3_ke5",
    "outputId": "4d81fb62-92e4-48ba-a948-77d83c8eb5a7"
   },
   "outputs": [
    {
     "data": {
      "text/plain": [
       "CUST_ID                             0\n",
       "BALANCE                             0\n",
       "BALANCE_FREQUENCY                   0\n",
       "PURCHASES                           0\n",
       "ONEOFF_PURCHASES                    0\n",
       "INSTALLMENTS_PURCHASES              0\n",
       "CASH_ADVANCE                        0\n",
       "PURCHASES_FREQUENCY                 0\n",
       "ONEOFF_PURCHASES_FREQUENCY          0\n",
       "PURCHASES_INSTALLMENTS_FREQUENCY    0\n",
       "CASH_ADVANCE_FREQUENCY              0\n",
       "CASH_ADVANCE_TRX                    0\n",
       "PURCHASES_TRX                       0\n",
       "CREDIT_LIMIT                        0\n",
       "PAYMENTS                            0\n",
       "MINIMUM_PAYMENTS                    0\n",
       "PRC_FULL_PAYMENT                    0\n",
       "TENURE                              0\n",
       "dtype: int64"
      ]
     },
     "execution_count": 10,
     "metadata": {},
     "output_type": "execute_result"
    }
   ],
   "source": [
    "df.isnull().sum()"
   ]
  },
  {
   "cell_type": "markdown",
   "metadata": {
    "id": "khQSdfJqbf7i"
   },
   "source": [
    "# Descriptive Statistics"
   ]
  },
  {
   "cell_type": "code",
   "execution_count": 11,
   "metadata": {
    "colab": {
     "base_uri": "https://localhost:8080/",
     "height": 296
    },
    "id": "QRir7_B2AGLy",
    "outputId": "c1d30234-321c-47ec-9928-9b76187f2ed0"
   },
   "outputs": [
    {
     "data": {
      "text/plain": [
       "<AxesSubplot:xlabel='TENURE', ylabel='BALANCE'>"
      ]
     },
     "execution_count": 11,
     "metadata": {},
     "output_type": "execute_result"
    },
    {
     "data": {
      "image/png": "[encoded data removed]",
      "text/plain": [
       "<Figure size 432x288 with 1 Axes>"
      ]
     },
     "metadata": {
      "needs_background": "light"
     },
     "output_type": "display_data"
    }
   ],
   "source": [
    "sns.boxplot(x = 'TENURE', y = 'BALANCE', data = df, )"
   ]
  },
  {
   "cell_type": "markdown",
   "metadata": {
    "id": "TyE5c2HXW5_t"
   },
   "source": [
    "Many users with high tenure has high balance available to make purchases. However, the median balance is almost same irrespective of tenure"
   ]
  },
  {
   "cell_type": "code",
   "execution_count": 12,
   "metadata": {
    "colab": {
     "base_uri": "https://localhost:8080/",
     "height": 279
    },
    "id": "mp8ah-5fYEUK",
    "outputId": "72677a59-d671-43f4-97ac-9ec989468e02"
   },
   "outputs": [
    {
     "data": {
      "image/png": "[encoded data removed]",
      "text/plain": [
       "<Figure size 432x288 with 1 Axes>"
      ]
     },
     "metadata": {
      "needs_background": "light"
     },
     "output_type": "display_data"
    }
   ],
   "source": [
    "sns.scatterplot(x='BALANCE', y='PURCHASES', data=df,color='purple');"
   ]
  },
  {
   "cell_type": "markdown",
   "metadata": {
    "id": "TQZepM7mYSgZ"
   },
   "source": [
    "We cannot observe a strong correaltion between balance and purchases"
   ]
  },
  {
   "cell_type": "code",
   "execution_count": 13,
   "metadata": {
    "colab": {
     "base_uri": "https://localhost:8080/",
     "height": 602
    },
    "id": "UJhi_uHhCsaS",
    "outputId": "48964e4f-9b5d-40c7-8acf-a72f4660d91d"
   },
   "outputs": [
    {
     "data": {
      "text/html": [
       "<style type=\"text/css\">\n",
       "#T_6db75_row0_col0, #T_6db75_row1_col1, #T_6db75_row2_col2, #T_6db75_row3_col3, #T_6db75_row4_col4, #T_6db75_row5_col5, #T_6db75_row6_col6, #T_6db75_row7_col7, #T_6db75_row8_col8, #T_6db75_row9_col9, #T_6db75_row10_col10, #T_6db75_row11_col11, #T_6db75_row12_col12, #T_6db75_row13_col13, #T_6db75_row14_col14, #T_6db75_row15_col15, #T_6db75_row16_col16 {\n",
       "  background-color: #b40426;\n",
       "  color: #f1f1f1;\n",
       "}\n",
       "#T_6db75_row0_col1, #T_6db75_row1_col9, #T_6db75_row2_col0, #T_6db75_row4_col3, #T_6db75_row4_col15, #T_6db75_row12_col13, #T_6db75_row13_col10 {\n",
       "  background-color: #bad0f8;\n",
       "  color: #000000;\n",
       "}\n",
       "#T_6db75_row0_col2, #T_6db75_row15_col2, #T_6db75_row16_col8 {\n",
       "  background-color: #93b5fe;\n",
       "  color: #000000;\n",
       "}\n",
       "#T_6db75_row0_col3, #T_6db75_row0_col4, #T_6db75_row1_col2, #T_6db75_row1_col4, #T_6db75_row8_col7, #T_6db75_row11_col12, #T_6db75_row16_col15 {\n",
       "  background-color: #85a8fc;\n",
       "  color: #f1f1f1;\n",
       "}\n",
       "#T_6db75_row0_col5, #T_6db75_row8_col11, #T_6db75_row9_col0 {\n",
       "  background-color: #efcebd;\n",
       "  color: #000000;\n",
       "}\n",
       "#T_6db75_row0_col6, #T_6db75_row5_col1 {\n",
       "  background-color: #7396f5;\n",
       "  color: #f1f1f1;\n",
       "}\n",
       "#T_6db75_row0_col7 {\n",
       "  background-color: #6f92f3;\n",
       "  color: #f1f1f1;\n",
       "}\n",
       "#T_6db75_row0_col8 {\n",
       "  background-color: #6c8ff1;\n",
       "  color: #f1f1f1;\n",
       "}\n",
       "#T_6db75_row0_col9, #T_6db75_row11_col3 {\n",
       "  background-color: #efcfbf;\n",
       "  color: #000000;\n",
       "}\n",
       "#T_6db75_row0_col10 {\n",
       "  background-color: #dadce0;\n",
       "  color: #000000;\n",
       "}\n",
       "#T_6db75_row0_col11, #T_6db75_row7_col12 {\n",
       "  background-color: #8db0fe;\n",
       "  color: #000000;\n",
       "}\n",
       "#T_6db75_row0_col12 {\n",
       "  background-color: #dddcdc;\n",
       "  color: #000000;\n",
       "}\n",
       "#T_6db75_row0_col13, #T_6db75_row13_col8 {\n",
       "  background-color: #96b7ff;\n",
       "  color: #000000;\n",
       "}\n",
       "#T_6db75_row0_col14, #T_6db75_row15_col6 {\n",
       "  background-color: #d5dbe5;\n",
       "  color: #000000;\n",
       "}\n",
       "#T_6db75_row0_col15, #T_6db75_row1_col13, #T_6db75_row6_col5, #T_6db75_row6_col9, #T_6db75_row6_col10, #T_6db75_row9_col2, #T_6db75_row9_col3, #T_6db75_row9_col4, #T_6db75_row9_col6, #T_6db75_row9_col7, #T_6db75_row9_col8, #T_6db75_row9_col11, #T_6db75_row9_col16, #T_6db75_row15_col0, #T_6db75_row15_col1, #T_6db75_row15_col12, #T_6db75_row15_col14 {\n",
       "  background-color: #3b4cc0;\n",
       "  color: #f1f1f1;\n",
       "}\n",
       "#T_6db75_row0_col16, #T_6db75_row3_col1, #T_6db75_row6_col0, #T_6db75_row8_col16 {\n",
       "  background-color: #7597f6;\n",
       "  color: #f1f1f1;\n",
       "}\n",
       "#T_6db75_row1_col0, #T_6db75_row13_col0 {\n",
       "  background-color: #d9dce1;\n",
       "  color: #000000;\n",
       "}\n",
       "#T_6db75_row1_col3, #T_6db75_row3_col9, #T_6db75_row3_col16, #T_6db75_row6_col16, #T_6db75_row12_col1, #T_6db75_row16_col7, #T_6db75_row16_col14 {\n",
       "  background-color: #7295f4;\n",
       "  color: #f1f1f1;\n",
       "}\n",
       "#T_6db75_row1_col5, #T_6db75_row11_col1, #T_6db75_row14_col10, #T_6db75_row15_col11 {\n",
       "  background-color: #90b2fe;\n",
       "  color: #000000;\n",
       "}\n",
       "#T_6db75_row1_col6 {\n",
       "  background-color: #c4d5f3;\n",
       "  color: #000000;\n",
       "}\n",
       "#T_6db75_row1_col7, #T_6db75_row1_col11, #T_6db75_row12_col15, #T_6db75_row16_col6 {\n",
       "  background-color: #98b9ff;\n",
       "  color: #000000;\n",
       "}\n",
       "#T_6db75_row1_col8 {\n",
       "  background-color: #aec9fc;\n",
       "  color: #000000;\n",
       "}\n",
       "#T_6db75_row1_col10 {\n",
       "  background-color: #9abbff;\n",
       "  color: #000000;\n",
       "}\n",
       "#T_6db75_row1_col12, #T_6db75_row6_col13 {\n",
       "  background-color: #465ecf;\n",
       "  color: #f1f1f1;\n",
       "}\n",
       "#T_6db75_row1_col14, #T_6db75_row4_col14, #T_6db75_row14_col4 {\n",
       "  background-color: #88abfd;\n",
       "  color: #000000;\n",
       "}\n",
       "#T_6db75_row1_col15, #T_6db75_row14_col16 {\n",
       "  background-color: #7093f3;\n",
       "  color: #f1f1f1;\n",
       "}\n",
       "#T_6db75_row1_col16, #T_6db75_row11_col16, #T_6db75_row16_col11 {\n",
       "  background-color: #84a7fc;\n",
       "  color: #f1f1f1;\n",
       "}\n",
       "#T_6db75_row2_col1, #T_6db75_row9_col14 {\n",
       "  background-color: #7ea1fa;\n",
       "  color: #f1f1f1;\n",
       "}\n",
       "#T_6db75_row2_col3, #T_6db75_row3_col2 {\n",
       "  background-color: #cf453c;\n",
       "  color: #f1f1f1;\n",
       "}\n",
       "#T_6db75_row2_col4, #T_6db75_row5_col9, #T_6db75_row10_col5 {\n",
       "  background-color: #f7a688;\n",
       "  color: #000000;\n",
       "}\n",
       "#T_6db75_row2_col5, #T_6db75_row4_col9, #T_6db75_row11_col9, #T_6db75_row16_col3, #T_6db75_row16_col9, #T_6db75_row16_col10 {\n",
       "  background-color: #6485ec;\n",
       "  color: #f1f1f1;\n",
       "}\n",
       "#T_6db75_row2_col6, #T_6db75_row3_col13 {\n",
       "  background-color: #e6d7cf;\n",
       "  color: #000000;\n",
       "}\n",
       "#T_6db75_row2_col7, #T_6db75_row13_col5 {\n",
       "  background-color: #e9d5cb;\n",
       "  color: #000000;\n",
       "}\n",
       "#T_6db75_row2_col8, #T_6db75_row6_col2 {\n",
       "  background-color: #d2dbe8;\n",
       "  color: #000000;\n",
       "}\n",
       "#T_6db75_row2_col9 {\n",
       "  background-color: #6788ee;\n",
       "  color: #f1f1f1;\n",
       "}\n",
       "#T_6db75_row2_col10, #T_6db75_row7_col10, #T_6db75_row10_col15 {\n",
       "  background-color: #5d7ce6;\n",
       "  color: #f1f1f1;\n",
       "}\n",
       "#T_6db75_row2_col11, #T_6db75_row11_col2 {\n",
       "  background-color: #f6a385;\n",
       "  color: #000000;\n",
       "}\n",
       "#T_6db75_row2_col12, #T_6db75_row13_col7 {\n",
       "  background-color: #a5c3fe;\n",
       "  color: #000000;\n",
       "}\n",
       "#T_6db75_row2_col13 {\n",
       "  background-color: #eed0c0;\n",
       "  color: #000000;\n",
       "}\n",
       "#T_6db75_row2_col14, #T_6db75_row10_col13, #T_6db75_row11_col14, #T_6db75_row14_col1, #T_6db75_row14_col11 {\n",
       "  background-color: #7da0f9;\n",
       "  color: #f1f1f1;\n",
       "}\n",
       "#T_6db75_row2_col15, #T_6db75_row13_col9 {\n",
       "  background-color: #b9d0f9;\n",
       "  color: #000000;\n",
       "}\n",
       "#T_6db75_row2_col16, #T_6db75_row4_col16, #T_6db75_row8_col0, #T_6db75_row8_col3, #T_6db75_row14_col2, #T_6db75_row16_col4 {\n",
       "  background-color: #799cf8;\n",
       "  color: #f1f1f1;\n",
       "}\n",
       "#T_6db75_row3_col0, #T_6db75_row11_col15, #T_6db75_row12_col7 {\n",
       "  background-color: #b5cdfa;\n",
       "  color: #000000;\n",
       "}\n",
       "#T_6db75_row3_col4 {\n",
       "  background-color: #c3d5f4;\n",
       "  color: #000000;\n",
       "}\n",
       "#T_6db75_row3_col5, #T_6db75_row7_col9 {\n",
       "  background-color: #6a8bef;\n",
       "  color: #f1f1f1;\n",
       "}\n",
       "#T_6db75_row3_col6 {\n",
       "  background-color: #ccd9ed;\n",
       "  color: #000000;\n",
       "}\n",
       "#T_6db75_row3_col7, #T_6db75_row4_col6 {\n",
       "  background-color: #edd1c2;\n",
       "  color: #000000;\n",
       "}\n",
       "#T_6db75_row3_col8 {\n",
       "  background-color: #a2c1ff;\n",
       "  color: #000000;\n",
       "}\n",
       "#T_6db75_row3_col10 {\n",
       "  background-color: #6384eb;\n",
       "  color: #f1f1f1;\n",
       "}\n",
       "#T_6db75_row3_col11, #T_6db75_row13_col3 {\n",
       "  background-color: #f2cbb7;\n",
       "  color: #000000;\n",
       "}\n",
       "#T_6db75_row3_col12, #T_6db75_row15_col4 {\n",
       "  background-color: #97b8ff;\n",
       "  color: #000000;\n",
       "}\n",
       "#T_6db75_row3_col14 {\n",
       "  background-color: #6e90f2;\n",
       "  color: #f1f1f1;\n",
       "}\n",
       "#T_6db75_row3_col15, #T_6db75_row4_col13, #T_6db75_row12_col4 {\n",
       "  background-color: #adc9fd;\n",
       "  color: #000000;\n",
       "}\n",
       "#T_6db75_row4_col0, #T_6db75_row12_col9 {\n",
       "  background-color: #abc8fd;\n",
       "  color: #000000;\n",
       "}\n",
       "#T_6db75_row4_col1 {\n",
       "  background-color: #7b9ff9;\n",
       "  color: #f1f1f1;\n",
       "}\n",
       "#T_6db75_row4_col2, #T_6db75_row5_col10 {\n",
       "  background-color: #f7a889;\n",
       "  color: #000000;\n",
       "}\n",
       "#T_6db75_row4_col5, #T_6db75_row6_col14, #T_6db75_row14_col3, #T_6db75_row16_col5 {\n",
       "  background-color: #6180e9;\n",
       "  color: #f1f1f1;\n",
       "}\n",
       "#T_6db75_row4_col7, #T_6db75_row6_col1, #T_6db75_row12_col10, #T_6db75_row14_col5 {\n",
       "  background-color: #9dbdff;\n",
       "  color: #000000;\n",
       "}\n",
       "#T_6db75_row4_col8 {\n",
       "  background-color: #f3c8b2;\n",
       "  color: #000000;\n",
       "}\n",
       "#T_6db75_row4_col10, #T_6db75_row7_col5 {\n",
       "  background-color: #5b7ae5;\n",
       "  color: #f1f1f1;\n",
       "}\n",
       "#T_6db75_row4_col11, #T_6db75_row11_col4, #T_6db75_row11_col6 {\n",
       "  background-color: #f7b79b;\n",
       "  color: #000000;\n",
       "}\n",
       "#T_6db75_row4_col12, #T_6db75_row13_col16 {\n",
       "  background-color: #80a3fa;\n",
       "  color: #f1f1f1;\n",
       "}\n",
       "#T_6db75_row5_col0, #T_6db75_row6_col11, #T_6db75_row7_col6 {\n",
       "  background-color: #f4c6af;\n",
       "  color: #000000;\n",
       "}\n",
       "#T_6db75_row5_col2, #T_6db75_row5_col4 {\n",
       "  background-color: #4c66d6;\n",
       "  color: #f1f1f1;\n",
       "}\n",
       "#T_6db75_row5_col3, #T_6db75_row5_col11, #T_6db75_row10_col2, #T_6db75_row15_col13 {\n",
       "  background-color: #4961d2;\n",
       "  color: #f1f1f1;\n",
       "}\n",
       "#T_6db75_row5_col6 {\n",
       "  background-color: #506bda;\n",
       "  color: #f1f1f1;\n",
       "}\n",
       "#T_6db75_row5_col7, #T_6db75_row8_col13 {\n",
       "  background-color: #4055c8;\n",
       "  color: #f1f1f1;\n",
       "}\n",
       "#T_6db75_row5_col8, #T_6db75_row6_col12, #T_6db75_row14_col13 {\n",
       "  background-color: #4f69d9;\n",
       "  color: #f1f1f1;\n",
       "}\n",
       "#T_6db75_row5_col12, #T_6db75_row9_col1 {\n",
       "  background-color: #92b4fe;\n",
       "  color: #000000;\n",
       "}\n",
       "#T_6db75_row5_col13 {\n",
       "  background-color: #c5d6f2;\n",
       "  color: #000000;\n",
       "}\n",
       "#T_6db75_row5_col14, #T_6db75_row15_col7 {\n",
       "  background-color: #8badfd;\n",
       "  color: #000000;\n",
       "}\n",
       "#T_6db75_row5_col15, #T_6db75_row9_col13 {\n",
       "  background-color: #6282ea;\n",
       "  color: #f1f1f1;\n",
       "}\n",
       "#T_6db75_row5_col16, #T_6db75_row10_col11 {\n",
       "  background-color: #4b64d5;\n",
       "  color: #f1f1f1;\n",
       "}\n",
       "#T_6db75_row6_col3, #T_6db75_row7_col8 {\n",
       "  background-color: #a6c4fe;\n",
       "  color: #000000;\n",
       "}\n",
       "#T_6db75_row6_col4 {\n",
       "  background-color: #dedcdb;\n",
       "  color: #000000;\n",
       "}\n",
       "#T_6db75_row6_col7, #T_6db75_row7_col2 {\n",
       "  background-color: #ead5c9;\n",
       "  color: #000000;\n",
       "}\n",
       "#T_6db75_row6_col8 {\n",
       "  background-color: #d85646;\n",
       "  color: #f1f1f1;\n",
       "}\n",
       "#T_6db75_row6_col15 {\n",
       "  background-color: #d6dce4;\n",
       "  color: #000000;\n",
       "}\n",
       "#T_6db75_row7_col0, #T_6db75_row16_col0 {\n",
       "  background-color: #9ebeff;\n",
       "  color: #000000;\n",
       "}\n",
       "#T_6db75_row7_col1 {\n",
       "  background-color: #94b6ff;\n",
       "  color: #000000;\n",
       "}\n",
       "#T_6db75_row7_col3 {\n",
       "  background-color: #ebd3c6;\n",
       "  color: #000000;\n",
       "}\n",
       "#T_6db75_row7_col4 {\n",
       "  background-color: #a1c0ff;\n",
       "  color: #000000;\n",
       "}\n",
       "#T_6db75_row7_col11 {\n",
       "  background-color: #f1ccb8;\n",
       "  color: #000000;\n",
       "}\n",
       "#T_6db75_row7_col13, #T_6db75_row7_col16 {\n",
       "  background-color: #779af7;\n",
       "  color: #f1f1f1;\n",
       "}\n",
       "#T_6db75_row7_col14 {\n",
       "  background-color: #5875e1;\n",
       "  color: #f1f1f1;\n",
       "}\n",
       "#T_6db75_row7_col15 {\n",
       "  background-color: #b3cdfb;\n",
       "  color: #000000;\n",
       "}\n",
       "#T_6db75_row8_col1 {\n",
       "  background-color: #8caffe;\n",
       "  color: #000000;\n",
       "}\n",
       "#T_6db75_row8_col2, #T_6db75_row13_col12 {\n",
       "  background-color: #bcd2f7;\n",
       "  color: #000000;\n",
       "}\n",
       "#T_6db75_row8_col4 {\n",
       "  background-color: #edd2c3;\n",
       "  color: #000000;\n",
       "}\n",
       "#T_6db75_row8_col5, #T_6db75_row8_col9, #T_6db75_row10_col3 {\n",
       "  background-color: #445acc;\n",
       "  color: #f1f1f1;\n",
       "}\n",
       "#T_6db75_row8_col6 {\n",
       "  background-color: #d75445;\n",
       "  color: #f1f1f1;\n",
       "}\n",
       "#T_6db75_row8_col10, #T_6db75_row15_col10 {\n",
       "  background-color: #4358cb;\n",
       "  color: #f1f1f1;\n",
       "}\n",
       "#T_6db75_row8_col12 {\n",
       "  background-color: #3c4ec2;\n",
       "  color: #f1f1f1;\n",
       "}\n",
       "#T_6db75_row8_col14, #T_6db75_row13_col1 {\n",
       "  background-color: #688aef;\n",
       "  color: #f1f1f1;\n",
       "}\n",
       "#T_6db75_row8_col15 {\n",
       "  background-color: #cad8ef;\n",
       "  color: #000000;\n",
       "}\n",
       "#T_6db75_row9_col5 {\n",
       "  background-color: #f7af91;\n",
       "  color: #000000;\n",
       "}\n",
       "#T_6db75_row9_col10 {\n",
       "  background-color: #e7745b;\n",
       "  color: #f1f1f1;\n",
       "}\n",
       "#T_6db75_row9_col12, #T_6db75_row10_col6, #T_6db75_row10_col16 {\n",
       "  background-color: #536edd;\n",
       "  color: #f1f1f1;\n",
       "}\n",
       "#T_6db75_row9_col15, #T_6db75_row10_col4, #T_6db75_row15_col5 {\n",
       "  background-color: #4a63d3;\n",
       "  color: #f1f1f1;\n",
       "}\n",
       "#T_6db75_row10_col0 {\n",
       "  background-color: #e5d8d1;\n",
       "  color: #000000;\n",
       "}\n",
       "#T_6db75_row10_col1, #T_6db75_row10_col14 {\n",
       "  background-color: #81a4fb;\n",
       "  color: #f1f1f1;\n",
       "}\n",
       "#T_6db75_row10_col7 {\n",
       "  background-color: #455cce;\n",
       "  color: #f1f1f1;\n",
       "}\n",
       "#T_6db75_row10_col8, #T_6db75_row14_col7, #T_6db75_row14_col12 {\n",
       "  background-color: #516ddb;\n",
       "  color: #f1f1f1;\n",
       "}\n",
       "#T_6db75_row10_col9 {\n",
       "  background-color: #e46e56;\n",
       "  color: #f1f1f1;\n",
       "}\n",
       "#T_6db75_row10_col12 {\n",
       "  background-color: #5977e3;\n",
       "  color: #f1f1f1;\n",
       "}\n",
       "#T_6db75_row11_col0, #T_6db75_row12_col11 {\n",
       "  background-color: #b2ccfb;\n",
       "  color: #000000;\n",
       "}\n",
       "#T_6db75_row11_col5, #T_6db75_row11_col10 {\n",
       "  background-color: #5e7de7;\n",
       "  color: #f1f1f1;\n",
       "}\n",
       "#T_6db75_row11_col7 {\n",
       "  background-color: #f1cdba;\n",
       "  color: #000000;\n",
       "}\n",
       "#T_6db75_row11_col8 {\n",
       "  background-color: #f5c4ac;\n",
       "  color: #000000;\n",
       "}\n",
       "#T_6db75_row11_col13, #T_6db75_row12_col6, #T_6db75_row13_col15 {\n",
       "  background-color: #a7c5fe;\n",
       "  color: #000000;\n",
       "}\n",
       "#T_6db75_row12_col0, #T_6db75_row13_col2 {\n",
       "  background-color: #f6bea4;\n",
       "  color: #000000;\n",
       "}\n",
       "#T_6db75_row12_col2, #T_6db75_row12_col5 {\n",
       "  background-color: #c9d7f0;\n",
       "  color: #000000;\n",
       "}\n",
       "#T_6db75_row12_col3 {\n",
       "  background-color: #b7cff9;\n",
       "  color: #000000;\n",
       "}\n",
       "#T_6db75_row12_col8 {\n",
       "  background-color: #8fb1fe;\n",
       "  color: #000000;\n",
       "}\n",
       "#T_6db75_row12_col14, #T_6db75_row13_col14, #T_6db75_row14_col8 {\n",
       "  background-color: #86a9fc;\n",
       "  color: #f1f1f1;\n",
       "}\n",
       "#T_6db75_row12_col16, #T_6db75_row14_col6 {\n",
       "  background-color: #89acfd;\n",
       "  color: #000000;\n",
       "}\n",
       "#T_6db75_row13_col4 {\n",
       "  background-color: #d1dae9;\n",
       "  color: #000000;\n",
       "}\n",
       "#T_6db75_row13_col6, #T_6db75_row14_col9 {\n",
       "  background-color: #a3c2fe;\n",
       "  color: #000000;\n",
       "}\n",
       "#T_6db75_row13_col11 {\n",
       "  background-color: #cdd9ec;\n",
       "  color: #000000;\n",
       "}\n",
       "#T_6db75_row14_col0 {\n",
       "  background-color: #e8d6cc;\n",
       "  color: #000000;\n",
       "}\n",
       "#T_6db75_row14_col15 {\n",
       "  background-color: #6687ed;\n",
       "  color: #f1f1f1;\n",
       "}\n",
       "#T_6db75_row15_col3, #T_6db75_row16_col1 {\n",
       "  background-color: #7a9df8;\n",
       "  color: #f1f1f1;\n",
       "}\n",
       "#T_6db75_row15_col8 {\n",
       "  background-color: #c1d4f4;\n",
       "  color: #000000;\n",
       "}\n",
       "#T_6db75_row15_col9, #T_6db75_row16_col13 {\n",
       "  background-color: #485fd1;\n",
       "  color: #f1f1f1;\n",
       "}\n",
       "#T_6db75_row15_col16 {\n",
       "  background-color: #5a78e4;\n",
       "  color: #f1f1f1;\n",
       "}\n",
       "#T_6db75_row16_col2 {\n",
       "  background-color: #7699f6;\n",
       "  color: #f1f1f1;\n",
       "}\n",
       "#T_6db75_row16_col12 {\n",
       "  background-color: #5572df;\n",
       "  color: #f1f1f1;\n",
       "}\n",
       "</style>\n",
       "<table id=\"T_6db75_\">\n",
       "  <thead>\n",
       "    <tr>\n",
       "      <th class=\"blank level0\" >&nbsp;</th>\n",
       "      <th class=\"col_heading level0 col0\" >BALANCE</th>\n",
       "      <th class=\"col_heading level0 col1\" >BALANCE_FREQUENCY</th>\n",
       "      <th class=\"col_heading level0 col2\" >PURCHASES</th>\n",
       "      <th class=\"col_heading level0 col3\" >ONEOFF_PURCHASES</th>\n",
       "      <th class=\"col_heading level0 col4\" >INSTALLMENTS_PURCHASES</th>\n",
       "      <th class=\"col_heading level0 col5\" >CASH_ADVANCE</th>\n",
       "      <th class=\"col_heading level0 col6\" >PURCHASES_FREQUENCY</th>\n",
       "      <th class=\"col_heading level0 col7\" >ONEOFF_PURCHASES_FREQUENCY</th>\n",
       "      <th class=\"col_heading level0 col8\" >PURCHASES_INSTALLMENTS_FREQUENCY</th>\n",
       "      <th class=\"col_heading level0 col9\" >CASH_ADVANCE_FREQUENCY</th>\n",
       "      <th class=\"col_heading level0 col10\" >CASH_ADVANCE_TRX</th>\n",
       "      <th class=\"col_heading level0 col11\" >PURCHASES_TRX</th>\n",
       "      <th class=\"col_heading level0 col12\" >CREDIT_LIMIT</th>\n",
       "      <th class=\"col_heading level0 col13\" >PAYMENTS</th>\n",
       "      <th class=\"col_heading level0 col14\" >MINIMUM_PAYMENTS</th>\n",
       "      <th class=\"col_heading level0 col15\" >PRC_FULL_PAYMENT</th>\n",
       "      <th class=\"col_heading level0 col16\" >TENURE</th>\n",
       "    </tr>\n",
       "  </thead>\n",
       "  <tbody>\n",
       "    <tr>\n",
       "      <th id=\"T_6db75_level0_row0\" class=\"row_heading level0 row0\" >BALANCE</th>\n",
       "      <td id=\"T_6db75_row0_col0\" class=\"data row0 col0\" >1.000000</td>\n",
       "      <td id=\"T_6db75_row0_col1\" class=\"data row0 col1\" >0.322412</td>\n",
       "      <td id=\"T_6db75_row0_col2\" class=\"data row0 col2\" >0.181261</td>\n",
       "      <td id=\"T_6db75_row0_col3\" class=\"data row0 col3\" >0.164350</td>\n",
       "      <td id=\"T_6db75_row0_col4\" class=\"data row0 col4\" >0.126469</td>\n",
       "      <td id=\"T_6db75_row0_col5\" class=\"data row0 col5\" >0.496692</td>\n",
       "      <td id=\"T_6db75_row0_col6\" class=\"data row0 col6\" >-0.077944</td>\n",
       "      <td id=\"T_6db75_row0_col7\" class=\"data row0 col7\" >0.073166</td>\n",
       "      <td id=\"T_6db75_row0_col8\" class=\"data row0 col8\" >-0.063186</td>\n",
       "      <td id=\"T_6db75_row0_col9\" class=\"data row0 col9\" >0.449218</td>\n",
       "      <td id=\"T_6db75_row0_col10\" class=\"data row0 col10\" >0.385152</td>\n",
       "      <td id=\"T_6db75_row0_col11\" class=\"data row0 col11\" >0.154338</td>\n",
       "      <td id=\"T_6db75_row0_col12\" class=\"data row0 col12\" >0.531296</td>\n",
       "      <td id=\"T_6db75_row0_col13\" class=\"data row0 col13\" >0.322802</td>\n",
       "      <td id=\"T_6db75_row0_col14\" class=\"data row0 col14\" >0.397920</td>\n",
       "      <td id=\"T_6db75_row0_col15\" class=\"data row0 col15\" >-0.318959</td>\n",
       "      <td id=\"T_6db75_row0_col16\" class=\"data row0 col16\" >0.072692</td>\n",
       "    </tr>\n",
       "    <tr>\n",
       "      <th id=\"T_6db75_level0_row1\" class=\"row_heading level0 row1\" >BALANCE_FREQUENCY</th>\n",
       "      <td id=\"T_6db75_row1_col0\" class=\"data row1 col0\" >0.322412</td>\n",
       "      <td id=\"T_6db75_row1_col1\" class=\"data row1 col1\" >1.000000</td>\n",
       "      <td id=\"T_6db75_row1_col2\" class=\"data row1 col2\" >0.133674</td>\n",
       "      <td id=\"T_6db75_row1_col3\" class=\"data row1 col3\" >0.104323</td>\n",
       "      <td id=\"T_6db75_row1_col4\" class=\"data row1 col4\" >0.124292</td>\n",
       "      <td id=\"T_6db75_row1_col5\" class=\"data row1 col5\" >0.099388</td>\n",
       "      <td id=\"T_6db75_row1_col6\" class=\"data row1 col6\" >0.229715</td>\n",
       "      <td id=\"T_6db75_row1_col7\" class=\"data row1 col7\" >0.202415</td>\n",
       "      <td id=\"T_6db75_row1_col8\" class=\"data row1 col8\" >0.176079</td>\n",
       "      <td id=\"T_6db75_row1_col9\" class=\"data row1 col9\" >0.191873</td>\n",
       "      <td id=\"T_6db75_row1_col10\" class=\"data row1 col10\" >0.141555</td>\n",
       "      <td id=\"T_6db75_row1_col11\" class=\"data row1 col11\" >0.189626</td>\n",
       "      <td id=\"T_6db75_row1_col12\" class=\"data row1 col12\" >0.095931</td>\n",
       "      <td id=\"T_6db75_row1_col13\" class=\"data row1 col13\" >0.065008</td>\n",
       "      <td id=\"T_6db75_row1_col14\" class=\"data row1 col14\" >0.131181</td>\n",
       "      <td id=\"T_6db75_row1_col15\" class=\"data row1 col15\" >-0.095082</td>\n",
       "      <td id=\"T_6db75_row1_col16\" class=\"data row1 col16\" >0.119776</td>\n",
       "    </tr>\n",
       "    <tr>\n",
       "      <th id=\"T_6db75_level0_row2\" class=\"row_heading level0 row2\" >PURCHASES</th>\n",
       "      <td id=\"T_6db75_row2_col0\" class=\"data row2 col0\" >0.181261</td>\n",
       "      <td id=\"T_6db75_row2_col1\" class=\"data row2 col1\" >0.133674</td>\n",
       "      <td id=\"T_6db75_row2_col2\" class=\"data row2 col2\" >1.000000</td>\n",
       "      <td id=\"T_6db75_row2_col3\" class=\"data row2 col3\" >0.916845</td>\n",
       "      <td id=\"T_6db75_row2_col4\" class=\"data row2 col4\" >0.679896</td>\n",
       "      <td id=\"T_6db75_row2_col5\" class=\"data row2 col5\" >-0.051474</td>\n",
       "      <td id=\"T_6db75_row2_col6\" class=\"data row2 col6\" >0.393017</td>\n",
       "      <td id=\"T_6db75_row2_col7\" class=\"data row2 col7\" >0.498430</td>\n",
       "      <td id=\"T_6db75_row2_col8\" class=\"data row2 col8\" >0.315567</td>\n",
       "      <td id=\"T_6db75_row2_col9\" class=\"data row2 col9\" >-0.120143</td>\n",
       "      <td id=\"T_6db75_row2_col10\" class=\"data row2 col10\" >-0.067175</td>\n",
       "      <td id=\"T_6db75_row2_col11\" class=\"data row2 col11\" >0.689561</td>\n",
       "      <td id=\"T_6db75_row2_col12\" class=\"data row2 col12\" >0.356977</td>\n",
       "      <td id=\"T_6db75_row2_col13\" class=\"data row2 col13\" >0.603264</td>\n",
       "      <td id=\"T_6db75_row2_col14\" class=\"data row2 col14\" >0.095789</td>\n",
       "      <td id=\"T_6db75_row2_col15\" class=\"data row2 col15\" >0.180379</td>\n",
       "      <td id=\"T_6db75_row2_col16\" class=\"data row2 col16\" >0.086288</td>\n",
       "    </tr>\n",
       "    <tr>\n",
       "      <th id=\"T_6db75_level0_row3\" class=\"row_heading level0 row3\" >ONEOFF_PURCHASES</th>\n",
       "      <td id=\"T_6db75_row3_col0\" class=\"data row3 col0\" >0.164350</td>\n",
       "      <td id=\"T_6db75_row3_col1\" class=\"data row3 col1\" >0.104323</td>\n",
       "      <td id=\"T_6db75_row3_col2\" class=\"data row3 col2\" >0.916845</td>\n",
       "      <td id=\"T_6db75_row3_col3\" class=\"data row3 col3\" >1.000000</td>\n",
       "      <td id=\"T_6db75_row3_col4\" class=\"data row3 col4\" >0.330622</td>\n",
       "      <td id=\"T_6db75_row3_col5\" class=\"data row3 col5\" >-0.031326</td>\n",
       "      <td id=\"T_6db75_row3_col6\" class=\"data row3 col6\" >0.264937</td>\n",
       "      <td id=\"T_6db75_row3_col7\" class=\"data row3 col7\" >0.524891</td>\n",
       "      <td id=\"T_6db75_row3_col8\" class=\"data row3 col8\" >0.127729</td>\n",
       "      <td id=\"T_6db75_row3_col9\" class=\"data row3 col9\" >-0.082628</td>\n",
       "      <td id=\"T_6db75_row3_col10\" class=\"data row3 col10\" >-0.046212</td>\n",
       "      <td id=\"T_6db75_row3_col11\" class=\"data row3 col11\" >0.545523</td>\n",
       "      <td id=\"T_6db75_row3_col12\" class=\"data row3 col12\" >0.319735</td>\n",
       "      <td id=\"T_6db75_row3_col13\" class=\"data row3 col13\" >0.567292</td>\n",
       "      <td id=\"T_6db75_row3_col14\" class=\"data row3 col14\" >0.050256</td>\n",
       "      <td id=\"T_6db75_row3_col15\" class=\"data row3 col15\" >0.132763</td>\n",
       "      <td id=\"T_6db75_row3_col16\" class=\"data row3 col16\" >0.064150</td>\n",
       "    </tr>\n",
       "    <tr>\n",
       "      <th id=\"T_6db75_level0_row4\" class=\"row_heading level0 row4\" >INSTALLMENTS_PURCHASES</th>\n",
       "      <td id=\"T_6db75_row4_col0\" class=\"data row4 col0\" >0.126469</td>\n",
       "      <td id=\"T_6db75_row4_col1\" class=\"data row4 col1\" >0.124292</td>\n",
       "      <td id=\"T_6db75_row4_col2\" class=\"data row4 col2\" >0.679896</td>\n",
       "      <td id=\"T_6db75_row4_col3\" class=\"data row4 col3\" >0.330622</td>\n",
       "      <td id=\"T_6db75_row4_col4\" class=\"data row4 col4\" >1.000000</td>\n",
       "      <td id=\"T_6db75_row4_col5\" class=\"data row4 col5\" >-0.064244</td>\n",
       "      <td id=\"T_6db75_row4_col6\" class=\"data row4 col6\" >0.442418</td>\n",
       "      <td id=\"T_6db75_row4_col7\" class=\"data row4 col7\" >0.214042</td>\n",
       "      <td id=\"T_6db75_row4_col8\" class=\"data row4 col8\" >0.511351</td>\n",
       "      <td id=\"T_6db75_row4_col9\" class=\"data row4 col9\" >-0.132318</td>\n",
       "      <td id=\"T_6db75_row4_col10\" class=\"data row4 col10\" >-0.073999</td>\n",
       "      <td id=\"T_6db75_row4_col11\" class=\"data row4 col11\" >0.628108</td>\n",
       "      <td id=\"T_6db75_row4_col12\" class=\"data row4 col12\" >0.256515</td>\n",
       "      <td id=\"T_6db75_row4_col13\" class=\"data row4 col13\" >0.384084</td>\n",
       "      <td id=\"T_6db75_row4_col14\" class=\"data row4 col14\" >0.134019</td>\n",
       "      <td id=\"T_6db75_row4_col15\" class=\"data row4 col15\" >0.182569</td>\n",
       "      <td id=\"T_6db75_row4_col16\" class=\"data row4 col16\" >0.086143</td>\n",
       "    </tr>\n",
       "    <tr>\n",
       "      <th id=\"T_6db75_level0_row5\" class=\"row_heading level0 row5\" >CASH_ADVANCE</th>\n",
       "      <td id=\"T_6db75_row5_col0\" class=\"data row5 col0\" >0.496692</td>\n",
       "      <td id=\"T_6db75_row5_col1\" class=\"data row5 col1\" >0.099388</td>\n",
       "      <td id=\"T_6db75_row5_col2\" class=\"data row5 col2\" >-0.051474</td>\n",
       "      <td id=\"T_6db75_row5_col3\" class=\"data row5 col3\" >-0.031326</td>\n",
       "      <td id=\"T_6db75_row5_col4\" class=\"data row5 col4\" >-0.064244</td>\n",
       "      <td id=\"T_6db75_row5_col5\" class=\"data row5 col5\" >1.000000</td>\n",
       "      <td id=\"T_6db75_row5_col6\" class=\"data row5 col6\" >-0.215507</td>\n",
       "      <td id=\"T_6db75_row5_col7\" class=\"data row5 col7\" >-0.086754</td>\n",
       "      <td id=\"T_6db75_row5_col8\" class=\"data row5 col8\" >-0.177070</td>\n",
       "      <td id=\"T_6db75_row5_col9\" class=\"data row5 col9\" >0.628522</td>\n",
       "      <td id=\"T_6db75_row5_col10\" class=\"data row5 col10\" >0.656498</td>\n",
       "      <td id=\"T_6db75_row5_col11\" class=\"data row5 col11\" >-0.075850</td>\n",
       "      <td id=\"T_6db75_row5_col12\" class=\"data row5 col12\" >0.303997</td>\n",
       "      <td id=\"T_6db75_row5_col13\" class=\"data row5 col13\" >0.453238</td>\n",
       "      <td id=\"T_6db75_row5_col14\" class=\"data row5 col14\" >0.140747</td>\n",
       "      <td id=\"T_6db75_row5_col15\" class=\"data row5 col15\" >-0.152935</td>\n",
       "      <td id=\"T_6db75_row5_col16\" class=\"data row5 col16\" >-0.068312</td>\n",
       "    </tr>\n",
       "    <tr>\n",
       "      <th id=\"T_6db75_level0_row6\" class=\"row_heading level0 row6\" >PURCHASES_FREQUENCY</th>\n",
       "      <td id=\"T_6db75_row6_col0\" class=\"data row6 col0\" >-0.077944</td>\n",
       "      <td id=\"T_6db75_row6_col1\" class=\"data row6 col1\" >0.229715</td>\n",
       "      <td id=\"T_6db75_row6_col2\" class=\"data row6 col2\" >0.393017</td>\n",
       "      <td id=\"T_6db75_row6_col3\" class=\"data row6 col3\" >0.264937</td>\n",
       "      <td id=\"T_6db75_row6_col4\" class=\"data row6 col4\" >0.442418</td>\n",
       "      <td id=\"T_6db75_row6_col5\" class=\"data row6 col5\" >-0.215507</td>\n",
       "      <td id=\"T_6db75_row6_col6\" class=\"data row6 col6\" >1.000000</td>\n",
       "      <td id=\"T_6db75_row6_col7\" class=\"data row6 col7\" >0.501343</td>\n",
       "      <td id=\"T_6db75_row6_col8\" class=\"data row6 col8\" >0.862934</td>\n",
       "      <td id=\"T_6db75_row6_col9\" class=\"data row6 col9\" >-0.308478</td>\n",
       "      <td id=\"T_6db75_row6_col10\" class=\"data row6 col10\" >-0.203478</td>\n",
       "      <td id=\"T_6db75_row6_col11\" class=\"data row6 col11\" >0.568430</td>\n",
       "      <td id=\"T_6db75_row6_col12\" class=\"data row6 col12\" >0.119833</td>\n",
       "      <td id=\"T_6db75_row6_col13\" class=\"data row6 col13\" >0.103464</td>\n",
       "      <td id=\"T_6db75_row6_col14\" class=\"data row6 col14\" >0.006154</td>\n",
       "      <td id=\"T_6db75_row6_col15\" class=\"data row6 col15\" >0.305802</td>\n",
       "      <td id=\"T_6db75_row6_col16\" class=\"data row6 col16\" >0.061506</td>\n",
       "    </tr>\n",
       "    <tr>\n",
       "      <th id=\"T_6db75_level0_row7\" class=\"row_heading level0 row7\" >ONEOFF_PURCHASES_FREQUENCY</th>\n",
       "      <td id=\"T_6db75_row7_col0\" class=\"data row7 col0\" >0.073166</td>\n",
       "      <td id=\"T_6db75_row7_col1\" class=\"data row7 col1\" >0.202415</td>\n",
       "      <td id=\"T_6db75_row7_col2\" class=\"data row7 col2\" >0.498430</td>\n",
       "      <td id=\"T_6db75_row7_col3\" class=\"data row7 col3\" >0.524891</td>\n",
       "      <td id=\"T_6db75_row7_col4\" class=\"data row7 col4\" >0.214042</td>\n",
       "      <td id=\"T_6db75_row7_col5\" class=\"data row7 col5\" >-0.086754</td>\n",
       "      <td id=\"T_6db75_row7_col6\" class=\"data row7 col6\" >0.501343</td>\n",
       "      <td id=\"T_6db75_row7_col7\" class=\"data row7 col7\" >1.000000</td>\n",
       "      <td id=\"T_6db75_row7_col8\" class=\"data row7 col8\" >0.142329</td>\n",
       "      <td id=\"T_6db75_row7_col9\" class=\"data row7 col9\" >-0.111716</td>\n",
       "      <td id=\"T_6db75_row7_col10\" class=\"data row7 col10\" >-0.069088</td>\n",
       "      <td id=\"T_6db75_row7_col11\" class=\"data row7 col11\" >0.544869</td>\n",
       "      <td id=\"T_6db75_row7_col12\" class=\"data row7 col12\" >0.295059</td>\n",
       "      <td id=\"T_6db75_row7_col13\" class=\"data row7 col13\" >0.243537</td>\n",
       "      <td id=\"T_6db75_row7_col14\" class=\"data row7 col14\" >-0.027311</td>\n",
       "      <td id=\"T_6db75_row7_col15\" class=\"data row7 col15\" >0.157531</td>\n",
       "      <td id=\"T_6db75_row7_col16\" class=\"data row7 col16\" >0.082466</td>\n",
       "    </tr>\n",
       "    <tr>\n",
       "      <th id=\"T_6db75_level0_row8\" class=\"row_heading level0 row8\" >PURCHASES_INSTALLMENTS_FREQUENCY</th>\n",
       "      <td id=\"T_6db75_row8_col0\" class=\"data row8 col0\" >-0.063186</td>\n",
       "      <td id=\"T_6db75_row8_col1\" class=\"data row8 col1\" >0.176079</td>\n",
       "      <td id=\"T_6db75_row8_col2\" class=\"data row8 col2\" >0.315567</td>\n",
       "      <td id=\"T_6db75_row8_col3\" class=\"data row8 col3\" >0.127729</td>\n",
       "      <td id=\"T_6db75_row8_col4\" class=\"data row8 col4\" >0.511351</td>\n",
       "      <td id=\"T_6db75_row8_col5\" class=\"data row8 col5\" >-0.177070</td>\n",
       "      <td id=\"T_6db75_row8_col6\" class=\"data row8 col6\" >0.862934</td>\n",
       "      <td id=\"T_6db75_row8_col7\" class=\"data row8 col7\" >0.142329</td>\n",
       "      <td id=\"T_6db75_row8_col8\" class=\"data row8 col8\" >1.000000</td>\n",
       "      <td id=\"T_6db75_row8_col9\" class=\"data row8 col9\" >-0.262958</td>\n",
       "      <td id=\"T_6db75_row8_col10\" class=\"data row8 col10\" >-0.169207</td>\n",
       "      <td id=\"T_6db75_row8_col11\" class=\"data row8 col11\" >0.529975</td>\n",
       "      <td id=\"T_6db75_row8_col12\" class=\"data row8 col12\" >0.060794</td>\n",
       "      <td id=\"T_6db75_row8_col13\" class=\"data row8 col13\" >0.085551</td>\n",
       "      <td id=\"T_6db75_row8_col14\" class=\"data row8 col14\" >0.032055</td>\n",
       "      <td id=\"T_6db75_row8_col15\" class=\"data row8 col15\" >0.250087</td>\n",
       "      <td id=\"T_6db75_row8_col16\" class=\"data row8 col16\" >0.073275</td>\n",
       "    </tr>\n",
       "    <tr>\n",
       "      <th id=\"T_6db75_level0_row9\" class=\"row_heading level0 row9\" >CASH_ADVANCE_FREQUENCY</th>\n",
       "      <td id=\"T_6db75_row9_col0\" class=\"data row9 col0\" >0.449218</td>\n",
       "      <td id=\"T_6db75_row9_col1\" class=\"data row9 col1\" >0.191873</td>\n",
       "      <td id=\"T_6db75_row9_col2\" class=\"data row9 col2\" >-0.120143</td>\n",
       "      <td id=\"T_6db75_row9_col3\" class=\"data row9 col3\" >-0.082628</td>\n",
       "      <td id=\"T_6db75_row9_col4\" class=\"data row9 col4\" >-0.132318</td>\n",
       "      <td id=\"T_6db75_row9_col5\" class=\"data row9 col5\" >0.628522</td>\n",
       "      <td id=\"T_6db75_row9_col6\" class=\"data row9 col6\" >-0.308478</td>\n",
       "      <td id=\"T_6db75_row9_col7\" class=\"data row9 col7\" >-0.111716</td>\n",
       "      <td id=\"T_6db75_row9_col8\" class=\"data row9 col8\" >-0.262958</td>\n",
       "      <td id=\"T_6db75_row9_col9\" class=\"data row9 col9\" >1.000000</td>\n",
       "      <td id=\"T_6db75_row9_col10\" class=\"data row9 col10\" >0.799561</td>\n",
       "      <td id=\"T_6db75_row9_col11\" class=\"data row9 col11\" >-0.131168</td>\n",
       "      <td id=\"T_6db75_row9_col12\" class=\"data row9 col12\" >0.132608</td>\n",
       "      <td id=\"T_6db75_row9_col13\" class=\"data row9 col13\" >0.183192</td>\n",
       "      <td id=\"T_6db75_row9_col14\" class=\"data row9 col14\" >0.100616</td>\n",
       "      <td id=\"T_6db75_row9_col15\" class=\"data row9 col15\" >-0.249773</td>\n",
       "      <td id=\"T_6db75_row9_col16\" class=\"data row9 col16\" >-0.133372</td>\n",
       "    </tr>\n",
       "    <tr>\n",
       "      <th id=\"T_6db75_level0_row10\" class=\"row_heading level0 row10\" >CASH_ADVANCE_TRX</th>\n",
       "      <td id=\"T_6db75_row10_col0\" class=\"data row10 col0\" >0.385152</td>\n",
       "      <td id=\"T_6db75_row10_col1\" class=\"data row10 col1\" >0.141555</td>\n",
       "      <td id=\"T_6db75_row10_col2\" class=\"data row10 col2\" >-0.067175</td>\n",
       "      <td id=\"T_6db75_row10_col3\" class=\"data row10 col3\" >-0.046212</td>\n",
       "      <td id=\"T_6db75_row10_col4\" class=\"data row10 col4\" >-0.073999</td>\n",
       "      <td id=\"T_6db75_row10_col5\" class=\"data row10 col5\" >0.656498</td>\n",
       "      <td id=\"T_6db75_row10_col6\" class=\"data row10 col6\" >-0.203478</td>\n",
       "      <td id=\"T_6db75_row10_col7\" class=\"data row10 col7\" >-0.069088</td>\n",
       "      <td id=\"T_6db75_row10_col8\" class=\"data row10 col8\" >-0.169207</td>\n",
       "      <td id=\"T_6db75_row10_col9\" class=\"data row10 col9\" >0.799561</td>\n",
       "      <td id=\"T_6db75_row10_col10\" class=\"data row10 col10\" >1.000000</td>\n",
       "      <td id=\"T_6db75_row10_col11\" class=\"data row10 col11\" >-0.066157</td>\n",
       "      <td id=\"T_6db75_row10_col12\" class=\"data row10 col12\" >0.149713</td>\n",
       "      <td id=\"T_6db75_row10_col13\" class=\"data row10 col13\" >0.255278</td>\n",
       "      <td id=\"T_6db75_row10_col14\" class=\"data row10 col14\" >0.111251</td>\n",
       "      <td id=\"T_6db75_row10_col15\" class=\"data row10 col15\" >-0.169784</td>\n",
       "      <td id=\"T_6db75_row10_col16\" class=\"data row10 col16\" >-0.043421</td>\n",
       "    </tr>\n",
       "    <tr>\n",
       "      <th id=\"T_6db75_level0_row11\" class=\"row_heading level0 row11\" >PURCHASES_TRX</th>\n",
       "      <td id=\"T_6db75_row11_col0\" class=\"data row11 col0\" >0.154338</td>\n",
       "      <td id=\"T_6db75_row11_col1\" class=\"data row11 col1\" >0.189626</td>\n",
       "      <td id=\"T_6db75_row11_col2\" class=\"data row11 col2\" >0.689561</td>\n",
       "      <td id=\"T_6db75_row11_col3\" class=\"data row11 col3\" >0.545523</td>\n",
       "      <td id=\"T_6db75_row11_col4\" class=\"data row11 col4\" >0.628108</td>\n",
       "      <td id=\"T_6db75_row11_col5\" class=\"data row11 col5\" >-0.075850</td>\n",
       "      <td id=\"T_6db75_row11_col6\" class=\"data row11 col6\" >0.568430</td>\n",
       "      <td id=\"T_6db75_row11_col7\" class=\"data row11 col7\" >0.544869</td>\n",
       "      <td id=\"T_6db75_row11_col8\" class=\"data row11 col8\" >0.529975</td>\n",
       "      <td id=\"T_6db75_row11_col9\" class=\"data row11 col9\" >-0.131168</td>\n",
       "      <td id=\"T_6db75_row11_col10\" class=\"data row11 col10\" >-0.066157</td>\n",
       "      <td id=\"T_6db75_row11_col11\" class=\"data row11 col11\" >1.000000</td>\n",
       "      <td id=\"T_6db75_row11_col12\" class=\"data row11 col12\" >0.272902</td>\n",
       "      <td id=\"T_6db75_row11_col13\" class=\"data row11 col13\" >0.370832</td>\n",
       "      <td id=\"T_6db75_row11_col14\" class=\"data row11 col14\" >0.098722</td>\n",
       "      <td id=\"T_6db75_row11_col15\" class=\"data row11 col15\" >0.162066</td>\n",
       "      <td id=\"T_6db75_row11_col16\" class=\"data row11 col16\" >0.121874</td>\n",
       "    </tr>\n",
       "    <tr>\n",
       "      <th id=\"T_6db75_level0_row12\" class=\"row_heading level0 row12\" >CREDIT_LIMIT</th>\n",
       "      <td id=\"T_6db75_row12_col0\" class=\"data row12 col0\" >0.531296</td>\n",
       "      <td id=\"T_6db75_row12_col1\" class=\"data row12 col1\" >0.095931</td>\n",
       "      <td id=\"T_6db75_row12_col2\" class=\"data row12 col2\" >0.356977</td>\n",
       "      <td id=\"T_6db75_row12_col3\" class=\"data row12 col3\" >0.319735</td>\n",
       "      <td id=\"T_6db75_row12_col4\" class=\"data row12 col4\" >0.256515</td>\n",
       "      <td id=\"T_6db75_row12_col5\" class=\"data row12 col5\" >0.303997</td>\n",
       "      <td id=\"T_6db75_row12_col6\" class=\"data row12 col6\" >0.119833</td>\n",
       "      <td id=\"T_6db75_row12_col7\" class=\"data row12 col7\" >0.295059</td>\n",
       "      <td id=\"T_6db75_row12_col8\" class=\"data row12 col8\" >0.060794</td>\n",
       "      <td id=\"T_6db75_row12_col9\" class=\"data row12 col9\" >0.132608</td>\n",
       "      <td id=\"T_6db75_row12_col10\" class=\"data row12 col10\" >0.149713</td>\n",
       "      <td id=\"T_6db75_row12_col11\" class=\"data row12 col11\" >0.272902</td>\n",
       "      <td id=\"T_6db75_row12_col12\" class=\"data row12 col12\" >1.000000</td>\n",
       "      <td id=\"T_6db75_row12_col13\" class=\"data row12 col13\" >0.421876</td>\n",
       "      <td id=\"T_6db75_row12_col14\" class=\"data row12 col14\" >0.126765</td>\n",
       "      <td id=\"T_6db75_row12_col15\" class=\"data row12 col15\" >0.055695</td>\n",
       "      <td id=\"T_6db75_row12_col16\" class=\"data row12 col16\" >0.139222</td>\n",
       "    </tr>\n",
       "    <tr>\n",
       "      <th id=\"T_6db75_level0_row13\" class=\"row_heading level0 row13\" >PAYMENTS</th>\n",
       "      <td id=\"T_6db75_row13_col0\" class=\"data row13 col0\" >0.322802</td>\n",
       "      <td id=\"T_6db75_row13_col1\" class=\"data row13 col1\" >0.065008</td>\n",
       "      <td id=\"T_6db75_row13_col2\" class=\"data row13 col2\" >0.603264</td>\n",
       "      <td id=\"T_6db75_row13_col3\" class=\"data row13 col3\" >0.567292</td>\n",
       "      <td id=\"T_6db75_row13_col4\" class=\"data row13 col4\" >0.384084</td>\n",
       "      <td id=\"T_6db75_row13_col5\" class=\"data row13 col5\" >0.453238</td>\n",
       "      <td id=\"T_6db75_row13_col6\" class=\"data row13 col6\" >0.103464</td>\n",
       "      <td id=\"T_6db75_row13_col7\" class=\"data row13 col7\" >0.243537</td>\n",
       "      <td id=\"T_6db75_row13_col8\" class=\"data row13 col8\" >0.085551</td>\n",
       "      <td id=\"T_6db75_row13_col9\" class=\"data row13 col9\" >0.183192</td>\n",
       "      <td id=\"T_6db75_row13_col10\" class=\"data row13 col10\" >0.255278</td>\n",
       "      <td id=\"T_6db75_row13_col11\" class=\"data row13 col11\" >0.370832</td>\n",
       "      <td id=\"T_6db75_row13_col12\" class=\"data row13 col12\" >0.421876</td>\n",
       "      <td id=\"T_6db75_row13_col13\" class=\"data row13 col13\" >1.000000</td>\n",
       "      <td id=\"T_6db75_row13_col14\" class=\"data row13 col14\" >0.128960</td>\n",
       "      <td id=\"T_6db75_row13_col15\" class=\"data row13 col15\" >0.112138</td>\n",
       "      <td id=\"T_6db75_row13_col16\" class=\"data row13 col16\" >0.106136</td>\n",
       "    </tr>\n",
       "    <tr>\n",
       "      <th id=\"T_6db75_level0_row14\" class=\"row_heading level0 row14\" >MINIMUM_PAYMENTS</th>\n",
       "      <td id=\"T_6db75_row14_col0\" class=\"data row14 col0\" >0.397920</td>\n",
       "      <td id=\"T_6db75_row14_col1\" class=\"data row14 col1\" >0.131181</td>\n",
       "      <td id=\"T_6db75_row14_col2\" class=\"data row14 col2\" >0.095789</td>\n",
       "      <td id=\"T_6db75_row14_col3\" class=\"data row14 col3\" >0.050256</td>\n",
       "      <td id=\"T_6db75_row14_col4\" class=\"data row14 col4\" >0.134019</td>\n",
       "      <td id=\"T_6db75_row14_col5\" class=\"data row14 col5\" >0.140747</td>\n",
       "      <td id=\"T_6db75_row14_col6\" class=\"data row14 col6\" >0.006154</td>\n",
       "      <td id=\"T_6db75_row14_col7\" class=\"data row14 col7\" >-0.027311</td>\n",
       "      <td id=\"T_6db75_row14_col8\" class=\"data row14 col8\" >0.032055</td>\n",
       "      <td id=\"T_6db75_row14_col9\" class=\"data row14 col9\" >0.100616</td>\n",
       "      <td id=\"T_6db75_row14_col10\" class=\"data row14 col10\" >0.111251</td>\n",
       "      <td id=\"T_6db75_row14_col11\" class=\"data row14 col11\" >0.098722</td>\n",
       "      <td id=\"T_6db75_row14_col12\" class=\"data row14 col12\" >0.126765</td>\n",
       "      <td id=\"T_6db75_row14_col13\" class=\"data row14 col13\" >0.128960</td>\n",
       "      <td id=\"T_6db75_row14_col14\" class=\"data row14 col14\" >1.000000</td>\n",
       "      <td id=\"T_6db75_row14_col15\" class=\"data row14 col15\" >-0.135194</td>\n",
       "      <td id=\"T_6db75_row14_col16\" class=\"data row14 col16\" >0.060006</td>\n",
       "    </tr>\n",
       "    <tr>\n",
       "      <th id=\"T_6db75_level0_row15\" class=\"row_heading level0 row15\" >PRC_FULL_PAYMENT</th>\n",
       "      <td id=\"T_6db75_row15_col0\" class=\"data row15 col0\" >-0.318959</td>\n",
       "      <td id=\"T_6db75_row15_col1\" class=\"data row15 col1\" >-0.095082</td>\n",
       "      <td id=\"T_6db75_row15_col2\" class=\"data row15 col2\" >0.180379</td>\n",
       "      <td id=\"T_6db75_row15_col3\" class=\"data row15 col3\" >0.132763</td>\n",
       "      <td id=\"T_6db75_row15_col4\" class=\"data row15 col4\" >0.182569</td>\n",
       "      <td id=\"T_6db75_row15_col5\" class=\"data row15 col5\" >-0.152935</td>\n",
       "      <td id=\"T_6db75_row15_col6\" class=\"data row15 col6\" >0.305802</td>\n",
       "      <td id=\"T_6db75_row15_col7\" class=\"data row15 col7\" >0.157531</td>\n",
       "      <td id=\"T_6db75_row15_col8\" class=\"data row15 col8\" >0.250087</td>\n",
       "      <td id=\"T_6db75_row15_col9\" class=\"data row15 col9\" >-0.249773</td>\n",
       "      <td id=\"T_6db75_row15_col10\" class=\"data row15 col10\" >-0.169784</td>\n",
       "      <td id=\"T_6db75_row15_col11\" class=\"data row15 col11\" >0.162066</td>\n",
       "      <td id=\"T_6db75_row15_col12\" class=\"data row15 col12\" >0.055695</td>\n",
       "      <td id=\"T_6db75_row15_col13\" class=\"data row15 col13\" >0.112138</td>\n",
       "      <td id=\"T_6db75_row15_col14\" class=\"data row15 col14\" >-0.135194</td>\n",
       "      <td id=\"T_6db75_row15_col15\" class=\"data row15 col15\" >1.000000</td>\n",
       "      <td id=\"T_6db75_row15_col16\" class=\"data row15 col16\" >-0.016486</td>\n",
       "    </tr>\n",
       "    <tr>\n",
       "      <th id=\"T_6db75_level0_row16\" class=\"row_heading level0 row16\" >TENURE</th>\n",
       "      <td id=\"T_6db75_row16_col0\" class=\"data row16 col0\" >0.072692</td>\n",
       "      <td id=\"T_6db75_row16_col1\" class=\"data row16 col1\" >0.119776</td>\n",
       "      <td id=\"T_6db75_row16_col2\" class=\"data row16 col2\" >0.086288</td>\n",
       "      <td id=\"T_6db75_row16_col3\" class=\"data row16 col3\" >0.064150</td>\n",
       "      <td id=\"T_6db75_row16_col4\" class=\"data row16 col4\" >0.086143</td>\n",
       "      <td id=\"T_6db75_row16_col5\" class=\"data row16 col5\" >-0.068312</td>\n",
       "      <td id=\"T_6db75_row16_col6\" class=\"data row16 col6\" >0.061506</td>\n",
       "      <td id=\"T_6db75_row16_col7\" class=\"data row16 col7\" >0.082466</td>\n",
       "      <td id=\"T_6db75_row16_col8\" class=\"data row16 col8\" >0.073275</td>\n",
       "      <td id=\"T_6db75_row16_col9\" class=\"data row16 col9\" >-0.133372</td>\n",
       "      <td id=\"T_6db75_row16_col10\" class=\"data row16 col10\" >-0.043421</td>\n",
       "      <td id=\"T_6db75_row16_col11\" class=\"data row16 col11\" >0.121874</td>\n",
       "      <td id=\"T_6db75_row16_col12\" class=\"data row16 col12\" >0.139222</td>\n",
       "      <td id=\"T_6db75_row16_col13\" class=\"data row16 col13\" >0.106136</td>\n",
       "      <td id=\"T_6db75_row16_col14\" class=\"data row16 col14\" >0.060006</td>\n",
       "      <td id=\"T_6db75_row16_col15\" class=\"data row16 col15\" >-0.016486</td>\n",
       "      <td id=\"T_6db75_row16_col16\" class=\"data row16 col16\" >1.000000</td>\n",
       "    </tr>\n",
       "  </tbody>\n",
       "</table>\n"
      ],
      "text/plain": [
       "<pandas.io.formats.style.Styler at 0x248588d6e80>"
      ]
     },
     "execution_count": 13,
     "metadata": {},
     "output_type": "execute_result"
    }
   ],
   "source": [
    "#Correlation map\n",
    "corr = df.corr()\n",
    "corr.style.background_gradient(cmap='coolwarm')"
   ]
  },
  {
   "cell_type": "code",
   "execution_count": 14,
   "metadata": {
    "colab": {
     "base_uri": "https://localhost:8080/",
     "height": 716
    },
    "id": "VIta9nWNX_RE",
    "outputId": "007940a9-7af8-402b-c052-a09cda26dc88"
   },
   "outputs": [
    {
     "data": {
      "image/png": "[encoded data removed]",
      "text/plain": [
       "<Figure size 1440x1080 with 20 Axes>"
      ]
     },
     "metadata": {
      "needs_background": "light"
     },
     "output_type": "display_data"
    }
   ],
   "source": [
    "#Distribution of various numerical columns\n",
    "num_col = df.select_dtypes(exclude=['object']).columns\n",
    "df[num_col].hist(bins=15, figsize=(20, 15), layout=(5, 4));"
   ]
  },
  {
   "cell_type": "markdown",
   "metadata": {},
   "source": [
    "## Scaling the features"
   ]
  },
  {
   "cell_type": "code",
   "execution_count": 15,
   "metadata": {},
   "outputs": [],
   "source": [
    "X = df.drop(['CUST_ID'],axis=1)\n",
    "sc = MinMaxScaler()\n",
    "X_scaled = sc.fit_transform(X)"
   ]
  },
  {
   "cell_type": "markdown",
   "metadata": {},
   "source": [
    "## PCA"
   ]
  },
  {
   "cell_type": "markdown",
   "metadata": {},
   "source": [
    "<b>\n",
    "Since there are lot of correlated features in the dataset. PCA can be applied to combine those correlated features and to reduce the dimensions in the data"
   ]
  },
  {
   "cell_type": "code",
   "execution_count": 16,
   "metadata": {},
   "outputs": [],
   "source": [
    "from sklearn.decomposition import PCA"
   ]
  },
  {
   "cell_type": "code",
   "execution_count": 17,
   "metadata": {},
   "outputs": [],
   "source": [
    "pca = PCA(n_components = 6)\n",
    "X_pca = pca.fit_transform(X_scaled)\n",
    "explained_variance = pca.explained_variance_ratio_"
   ]
  },
  {
   "cell_type": "code",
   "execution_count": 18,
   "metadata": {},
   "outputs": [
    {
     "data": {
      "text/plain": [
       "array([0.49597096, 0.14054119, 0.12844606, 0.07676852, 0.06963551,\n",
       "       0.03588311])"
      ]
     },
     "execution_count": 18,
     "metadata": {},
     "output_type": "execute_result"
    }
   ],
   "source": [
    "explained_variance"
   ]
  },
  {
   "cell_type": "markdown",
   "metadata": {
    "colab": {
     "base_uri": "https://localhost:8080/",
     "height": 499,
     "referenced_widgets": [
      "eb6f9a9fee4448aaa1a819e9c804cafd",
      "d8fa76f4628d45db8031458ff3adedaa",
      "8104e79600414df4acdda12a6435bcea"
     ]
    },
    "id": "Q_hdyTcAfYK4",
    "outputId": "794593cd-810a-4fd9-c435-41ffd0bc9795"
   },
   "source": [
    "## Clustering"
   ]
  },
  {
   "cell_type": "code",
   "execution_count": 19,
   "metadata": {},
   "outputs": [],
   "source": [
    "#Importing clustering libraries\n",
    "from sklearn.cluster import KMeans\n",
    "from sklearn.metrics import silhouette_score"
   ]
  },
  {
   "cell_type": "code",
   "execution_count": 20,
   "metadata": {},
   "outputs": [
    {
     "data": {
      "text/plain": [
       "[<matplotlib.lines.Line2D at 0x2485ad77be0>]"
      ]
     },
     "execution_count": 20,
     "metadata": {},
     "output_type": "execute_result"
    },
    {
     "data": {
      "image/png": "[encoded data removed]",
      "text/plain": [
       "<Figure size 432x288 with 1 Axes>"
      ]
     },
     "metadata": {
      "needs_background": "light"
     },
     "output_type": "display_data"
    }
   ],
   "source": [
    "#Elbow method\n",
    "wcss=[]\n",
    "for i in range (1,8):\n",
    "    kmeans=KMeans(i,init='k-means++')\n",
    "    kmeans.fit(X_pca)\n",
    "    wcss_i = kmeans.inertia_\n",
    "    wcss.append(wcss_i)\n",
    "    \n",
    "plt.plot(range(1,8),wcss)"
   ]
  },
  {
   "cell_type": "markdown",
   "metadata": {},
   "source": [
    "<b> Elbow plot shows that two clusters are appropriate for this case"
   ]
  },
  {
   "cell_type": "markdown",
   "metadata": {},
   "source": [
    " ## KMeans clustering technique"
   ]
  },
  {
   "cell_type": "code",
   "execution_count": 21,
   "metadata": {},
   "outputs": [
    {
     "data": {
      "text/plain": [
       "KMeans(n_clusters=2)"
      ]
     },
     "execution_count": 21,
     "metadata": {},
     "output_type": "execute_result"
    }
   ],
   "source": [
    "#Training KMeans model with 2 clusters\n",
    "kmeans_model = KMeans(2,init='k-means++')\n",
    "kmeans_model.fit(X_pca)"
   ]
  },
  {
   "cell_type": "code",
   "execution_count": 22,
   "metadata": {},
   "outputs": [],
   "source": [
    "clusters=kmeans_model.predict(X_pca)"
   ]
  },
  {
   "cell_type": "code",
   "execution_count": 23,
   "metadata": {},
   "outputs": [],
   "source": [
    "df['KMeans_cluster']=clusters"
   ]
  },
  {
   "cell_type": "code",
   "execution_count": 24,
   "metadata": {},
   "outputs": [],
   "source": [
    "X['KMeans_cluster']=clusters"
   ]
  },
  {
   "cell_type": "code",
   "execution_count": 25,
   "metadata": {},
   "outputs": [
    {
     "data": {
      "text/html": [
       "<div>\n",
       "<style scoped>\n",
       "    .dataframe tbody tr th:only-of-type {\n",
       "        vertical-align: middle;\n",
       "    }\n",
       "\n",
       "    .dataframe tbody tr th {\n",
       "        vertical-align: top;\n",
       "    }\n",
       "\n",
       "    .dataframe thead th {\n",
       "        text-align: right;\n",
       "    }\n",
       "</style>\n",
       "<table border=\"1\" class=\"dataframe\">\n",
       "  <thead>\n",
       "    <tr style=\"text-align: right;\">\n",
       "      <th></th>\n",
       "      <th>BALANCE</th>\n",
       "      <th>BALANCE_FREQUENCY</th>\n",
       "      <th>PURCHASES</th>\n",
       "      <th>ONEOFF_PURCHASES</th>\n",
       "      <th>INSTALLMENTS_PURCHASES</th>\n",
       "      <th>CASH_ADVANCE</th>\n",
       "      <th>PURCHASES_FREQUENCY</th>\n",
       "      <th>ONEOFF_PURCHASES_FREQUENCY</th>\n",
       "      <th>PURCHASES_INSTALLMENTS_FREQUENCY</th>\n",
       "      <th>CASH_ADVANCE_FREQUENCY</th>\n",
       "      <th>CASH_ADVANCE_TRX</th>\n",
       "      <th>PURCHASES_TRX</th>\n",
       "      <th>CREDIT_LIMIT</th>\n",
       "      <th>PAYMENTS</th>\n",
       "      <th>MINIMUM_PAYMENTS</th>\n",
       "      <th>PRC_FULL_PAYMENT</th>\n",
       "      <th>TENURE</th>\n",
       "    </tr>\n",
       "    <tr>\n",
       "      <th>KMeans_cluster</th>\n",
       "      <th></th>\n",
       "      <th></th>\n",
       "      <th></th>\n",
       "      <th></th>\n",
       "      <th></th>\n",
       "      <th></th>\n",
       "      <th></th>\n",
       "      <th></th>\n",
       "      <th></th>\n",
       "      <th></th>\n",
       "      <th></th>\n",
       "      <th></th>\n",
       "      <th></th>\n",
       "      <th></th>\n",
       "      <th></th>\n",
       "      <th></th>\n",
       "      <th></th>\n",
       "    </tr>\n",
       "  </thead>\n",
       "  <tbody>\n",
       "    <tr>\n",
       "      <th>0</th>\n",
       "      <td>1694.801418</td>\n",
       "      <td>0.828487</td>\n",
       "      <td>323.056993</td>\n",
       "      <td>257.332419</td>\n",
       "      <td>65.961268</td>\n",
       "      <td>1317.606753</td>\n",
       "      <td>0.159876</td>\n",
       "      <td>0.092633</td>\n",
       "      <td>0.065874</td>\n",
       "      <td>0.182440</td>\n",
       "      <td>4.316989</td>\n",
       "      <td>3.122889</td>\n",
       "      <td>4130.906995</td>\n",
       "      <td>1464.183480</td>\n",
       "      <td>821.210891</td>\n",
       "      <td>0.071041</td>\n",
       "      <td>11.449237</td>\n",
       "    </tr>\n",
       "    <tr>\n",
       "      <th>1</th>\n",
       "      <td>1405.725089</td>\n",
       "      <td>0.936694</td>\n",
       "      <td>1831.687271</td>\n",
       "      <td>1000.625931</td>\n",
       "      <td>831.438857</td>\n",
       "      <td>566.260041</td>\n",
       "      <td>0.892898</td>\n",
       "      <td>0.336235</td>\n",
       "      <td>0.728114</td>\n",
       "      <td>0.077534</td>\n",
       "      <td>1.947708</td>\n",
       "      <td>28.823792</td>\n",
       "      <td>4936.907126</td>\n",
       "      <td>2060.762248</td>\n",
       "      <td>873.770516</td>\n",
       "      <td>0.254418</td>\n",
       "      <td>11.600248</td>\n",
       "    </tr>\n",
       "  </tbody>\n",
       "</table>\n",
       "</div>"
      ],
      "text/plain": [
       "                    BALANCE  BALANCE_FREQUENCY    PURCHASES  ONEOFF_PURCHASES  \\\n",
       "KMeans_cluster                                                                  \n",
       "0               1694.801418           0.828487   323.056993        257.332419   \n",
       "1               1405.725089           0.936694  1831.687271       1000.625931   \n",
       "\n",
       "                INSTALLMENTS_PURCHASES  CASH_ADVANCE  PURCHASES_FREQUENCY  \\\n",
       "KMeans_cluster                                                              \n",
       "0                            65.961268   1317.606753             0.159876   \n",
       "1                           831.438857    566.260041             0.892898   \n",
       "\n",
       "                ONEOFF_PURCHASES_FREQUENCY  PURCHASES_INSTALLMENTS_FREQUENCY  \\\n",
       "KMeans_cluster                                                                 \n",
       "0                                 0.092633                          0.065874   \n",
       "1                                 0.336235                          0.728114   \n",
       "\n",
       "                CASH_ADVANCE_FREQUENCY  CASH_ADVANCE_TRX  PURCHASES_TRX  \\\n",
       "KMeans_cluster                                                            \n",
       "0                             0.182440          4.316989       3.122889   \n",
       "1                             0.077534          1.947708      28.823792   \n",
       "\n",
       "                CREDIT_LIMIT     PAYMENTS  MINIMUM_PAYMENTS  PRC_FULL_PAYMENT  \\\n",
       "KMeans_cluster                                                                  \n",
       "0                4130.906995  1464.183480        821.210891          0.071041   \n",
       "1                4936.907126  2060.762248        873.770516          0.254418   \n",
       "\n",
       "                   TENURE  \n",
       "KMeans_cluster             \n",
       "0               11.449237  \n",
       "1               11.600248  "
      ]
     },
     "execution_count": 25,
     "metadata": {},
     "output_type": "execute_result"
    }
   ],
   "source": [
    "#Cluster characteristics\n",
    "X.groupby(['KMeans_cluster']).mean()"
   ]
  },
  {
   "cell_type": "code",
   "execution_count": 26,
   "metadata": {},
   "outputs": [
    {
     "name": "stdout",
     "output_type": "stream",
     "text": [
      "Silhouette Score(n=2): 0.3867308163867571\n"
     ]
    }
   ],
   "source": [
    "print(f'Silhouette Score(n=2): {silhouette_score(X_scaled, clusters)}')"
   ]
  },
  {
   "cell_type": "code",
   "execution_count": 27,
   "metadata": {},
   "outputs": [
    {
     "data": {
      "text/plain": [
       "3195.9054137596954"
      ]
     },
     "execution_count": 27,
     "metadata": {},
     "output_type": "execute_result"
    }
   ],
   "source": [
    "kmeans_model.inertia_"
   ]
  },
  {
   "cell_type": "markdown",
   "metadata": {},
   "source": [
    "## Hierarchical clustering"
   ]
  },
  {
   "cell_type": "code",
   "execution_count": 28,
   "metadata": {},
   "outputs": [],
   "source": [
    "import scipy.cluster.hierarchy as shc"
   ]
  },
  {
   "cell_type": "code",
   "execution_count": 29,
   "metadata": {},
   "outputs": [
    {
     "data": {
      "text/plain": [
       "<matplotlib.lines.Line2D at 0x2485add8070>"
      ]
     },
     "execution_count": 29,
     "metadata": {},
     "output_type": "execute_result"
    },
    {
     "data": {
      "image/png": "[encoded data removed]",
      "text/plain": [
       "<Figure size 720x504 with 1 Axes>"
      ]
     },
     "metadata": {
      "needs_background": "light"
     },
     "output_type": "display_data"
    }
   ],
   "source": [
    "plt.figure(figsize=(10, 7))  \n",
    "plt.title(\"Dendrograms\")  \n",
    "dend = shc.dendrogram(shc.linkage(X_pca, method='ward'))\n",
    "plt.axhline(y=40, color='r', linestyle='--')"
   ]
  },
  {
   "cell_type": "code",
   "execution_count": 30,
   "metadata": {},
   "outputs": [],
   "source": [
    "from sklearn.cluster import AgglomerativeClustering\n",
    "h_cluster = AgglomerativeClustering(n_clusters=2, affinity='euclidean', linkage='ward')  \n",
    "predicted_h=h_cluster.fit_predict(X_pca)"
   ]
  },
  {
   "cell_type": "code",
   "execution_count": 31,
   "metadata": {},
   "outputs": [],
   "source": [
    "X['h_cluster'] = predicted_h"
   ]
  },
  {
   "cell_type": "code",
   "execution_count": 32,
   "metadata": {},
   "outputs": [
    {
     "name": "stdout",
     "output_type": "stream",
     "text": [
      "Silhouette Score(n=2): 0.35872992985963914\n"
     ]
    }
   ],
   "source": [
    "print(f'Silhouette Score(n=2): {silhouette_score(X_scaled, predicted_h)}')"
   ]
  },
  {
   "cell_type": "code",
   "execution_count": 33,
   "metadata": {},
   "outputs": [
    {
     "data": {
      "text/html": [
       "<div>\n",
       "<style scoped>\n",
       "    .dataframe tbody tr th:only-of-type {\n",
       "        vertical-align: middle;\n",
       "    }\n",
       "\n",
       "    .dataframe tbody tr th {\n",
       "        vertical-align: top;\n",
       "    }\n",
       "\n",
       "    .dataframe thead th {\n",
       "        text-align: right;\n",
       "    }\n",
       "</style>\n",
       "<table border=\"1\" class=\"dataframe\">\n",
       "  <thead>\n",
       "    <tr style=\"text-align: right;\">\n",
       "      <th></th>\n",
       "      <th>BALANCE</th>\n",
       "      <th>BALANCE_FREQUENCY</th>\n",
       "      <th>PURCHASES</th>\n",
       "      <th>ONEOFF_PURCHASES</th>\n",
       "      <th>INSTALLMENTS_PURCHASES</th>\n",
       "      <th>CASH_ADVANCE</th>\n",
       "      <th>PURCHASES_FREQUENCY</th>\n",
       "      <th>ONEOFF_PURCHASES_FREQUENCY</th>\n",
       "      <th>PURCHASES_INSTALLMENTS_FREQUENCY</th>\n",
       "      <th>CASH_ADVANCE_FREQUENCY</th>\n",
       "      <th>CASH_ADVANCE_TRX</th>\n",
       "      <th>PURCHASES_TRX</th>\n",
       "      <th>CREDIT_LIMIT</th>\n",
       "      <th>PAYMENTS</th>\n",
       "      <th>MINIMUM_PAYMENTS</th>\n",
       "      <th>PRC_FULL_PAYMENT</th>\n",
       "      <th>TENURE</th>\n",
       "      <th>KMeans_cluster</th>\n",
       "    </tr>\n",
       "    <tr>\n",
       "      <th>h_cluster</th>\n",
       "      <th></th>\n",
       "      <th></th>\n",
       "      <th></th>\n",
       "      <th></th>\n",
       "      <th></th>\n",
       "      <th></th>\n",
       "      <th></th>\n",
       "      <th></th>\n",
       "      <th></th>\n",
       "      <th></th>\n",
       "      <th></th>\n",
       "      <th></th>\n",
       "      <th></th>\n",
       "      <th></th>\n",
       "      <th></th>\n",
       "      <th></th>\n",
       "      <th></th>\n",
       "      <th></th>\n",
       "    </tr>\n",
       "  </thead>\n",
       "  <tbody>\n",
       "    <tr>\n",
       "      <th>0</th>\n",
       "      <td>1393.596727</td>\n",
       "      <td>0.929816</td>\n",
       "      <td>1665.247228</td>\n",
       "      <td>902.365552</td>\n",
       "      <td>763.330760</td>\n",
       "      <td>585.823765</td>\n",
       "      <td>0.839714</td>\n",
       "      <td>0.311774</td>\n",
       "      <td>0.675973</td>\n",
       "      <td>0.081359</td>\n",
       "      <td>2.044961</td>\n",
       "      <td>26.222198</td>\n",
       "      <td>4744.205094</td>\n",
       "      <td>1927.720648</td>\n",
       "      <td>850.385455</td>\n",
       "      <td>0.229402</td>\n",
       "      <td>11.548219</td>\n",
       "      <td>0.867507</td>\n",
       "    </tr>\n",
       "    <tr>\n",
       "      <th>1</th>\n",
       "      <td>1745.497095</td>\n",
       "      <td>0.821606</td>\n",
       "      <td>301.860336</td>\n",
       "      <td>264.110324</td>\n",
       "      <td>37.892453</td>\n",
       "      <td>1395.251689</td>\n",
       "      <td>0.120247</td>\n",
       "      <td>0.086652</td>\n",
       "      <td>0.034407</td>\n",
       "      <td>0.192122</td>\n",
       "      <td>4.524160</td>\n",
       "      <td>2.514036</td>\n",
       "      <td>4229.523212</td>\n",
       "      <td>1527.016018</td>\n",
       "      <td>839.102836</td>\n",
       "      <td>0.073534</td>\n",
       "      <td>11.484584</td>\n",
       "      <td>0.009434</td>\n",
       "    </tr>\n",
       "  </tbody>\n",
       "</table>\n",
       "</div>"
      ],
      "text/plain": [
       "               BALANCE  BALANCE_FREQUENCY    PURCHASES  ONEOFF_PURCHASES  \\\n",
       "h_cluster                                                                  \n",
       "0          1393.596727           0.929816  1665.247228        902.365552   \n",
       "1          1745.497095           0.821606   301.860336        264.110324   \n",
       "\n",
       "           INSTALLMENTS_PURCHASES  CASH_ADVANCE  PURCHASES_FREQUENCY  \\\n",
       "h_cluster                                                              \n",
       "0                      763.330760    585.823765             0.839714   \n",
       "1                       37.892453   1395.251689             0.120247   \n",
       "\n",
       "           ONEOFF_PURCHASES_FREQUENCY  PURCHASES_INSTALLMENTS_FREQUENCY  \\\n",
       "h_cluster                                                                 \n",
       "0                            0.311774                          0.675973   \n",
       "1                            0.086652                          0.034407   \n",
       "\n",
       "           CASH_ADVANCE_FREQUENCY  CASH_ADVANCE_TRX  PURCHASES_TRX  \\\n",
       "h_cluster                                                            \n",
       "0                        0.081359          2.044961      26.222198   \n",
       "1                        0.192122          4.524160       2.514036   \n",
       "\n",
       "           CREDIT_LIMIT     PAYMENTS  MINIMUM_PAYMENTS  PRC_FULL_PAYMENT  \\\n",
       "h_cluster                                                                  \n",
       "0           4744.205094  1927.720648        850.385455          0.229402   \n",
       "1           4229.523212  1527.016018        839.102836          0.073534   \n",
       "\n",
       "              TENURE  KMeans_cluster  \n",
       "h_cluster                             \n",
       "0          11.548219        0.867507  \n",
       "1          11.484584        0.009434  "
      ]
     },
     "execution_count": 33,
     "metadata": {},
     "output_type": "execute_result"
    }
   ],
   "source": [
    "X.groupby(['h_cluster']).mean()"
   ]
  },
  {
   "cell_type": "markdown",
   "metadata": {},
   "source": [
    "<h3>Observation</h3><br>\n",
    "<b>Silhouette score is higher for KMeans which indicates that the KMeans solutions provides more distinguishable clusters than Hierarchical clustering for this usecase."
   ]
  },
  {
   "cell_type": "markdown",
   "metadata": {},
   "source": [
    "## Naming the clusters\n",
    "<b>Cluster 0 - High spenders<br>\n",
    "Cluster 1 - Low spenders"
   ]
  },
  {
   "cell_type": "markdown",
   "metadata": {},
   "source": [
    "<b>Personalized services and different marketing strategy can be used for these two clusters based on their characteristics to improve customer experience"
   ]
  },
  {
   "cell_type": "markdown",
   "metadata": {},
   "source": [
    "## Predicting clusters for new customers"
   ]
  },
  {
   "cell_type": "code",
   "execution_count": 55,
   "metadata": {},
   "outputs": [],
   "source": [
    "from sklearn.model_selection import train_test_split, RandomizedSearchCV \n",
    "from sklearn.linear_model import LogisticRegression\n",
    "from sklearn.svm import SVC\n",
    "from sklearn.tree import DecisionTreeClassifier\n",
    "from sklearn.ensemble import RandomForestClassifier\n",
    "import xgboost as xgb\n",
    "from sklearn.metrics import classification_report, accuracy_score"
   ]
  },
  {
   "cell_type": "code",
   "execution_count": 37,
   "metadata": {},
   "outputs": [],
   "source": [
    "y1 = X['KMeans_cluster']\n",
    "X1 = X.drop(['KMeans_cluster','h_cluster'],axis=1)"
   ]
  },
  {
   "cell_type": "code",
   "execution_count": 38,
   "metadata": {},
   "outputs": [],
   "source": [
    "X1_scaled = sc.transform(X1)"
   ]
  },
  {
   "cell_type": "code",
   "execution_count": 39,
   "metadata": {},
   "outputs": [],
   "source": [
    "X_train, X_test, y_train, y_test = train_test_split( X1_scaled, y1, test_size=0.30, random_state=42)"
   ]
  },
  {
   "cell_type": "code",
   "execution_count": 42,
   "metadata": {},
   "outputs": [],
   "source": [
    "models = {\n",
    "    'SVM':{'model':SVC(gamma='auto',C=5,kernel='rbf'),'params': {'C': [1,5,10]}},\n",
    "    'xgboost':{'model':xgb.XGBClassifier(),'params': {'max_depth':[4,6,8],'gamma': [0.5, 1, 2, 5]}},\n",
    "    'logisticRegression':{'model':LogisticRegression(),'params':{'penalty':['l1','l2']}},\n",
    "    'DecisionTree':{'model':DecisionTreeClassifier(),'params':{'max_depth':[4.6,8]}},\n",
    "    'RandomForest':{'model':RandomForestClassifier(),'params':{'max_depth':[4,6,8]}}\n",
    "}"
   ]
  },
  {
   "cell_type": "code",
   "execution_count": 44,
   "metadata": {},
   "outputs": [
    {
     "name": "stderr",
     "output_type": "stream",
     "text": [
      "C:\\Users\\DELL\\AppData\\Roaming\\Python\\Python39\\site-packages\\sklearn\\model_selection\\_search.py:292: UserWarning: The total space of parameters 3 is smaller than n_iter=10. Running 3 iterations. For exhaustive searches, use GridSearchCV.\n",
      "  warnings.warn(\n",
      "C:\\Users\\DELL\\anaconda3\\lib\\site-packages\\xgboost\\sklearn.py:1224: UserWarning: The use of label encoder in XGBClassifier is deprecated and will be removed in a future release. To remove this warning, do the following: 1) Pass option use_label_encoder=False when constructing XGBClassifier object; and 2) Encode your labels (y) as integers starting with 0, i.e. 0, 1, 2, ..., [num_class - 1].\n",
      "  warnings.warn(label_encoder_deprecation_msg, UserWarning)\n"
     ]
    },
    {
     "name": "stdout",
     "output_type": "stream",
     "text": [
      "[11:03:35] WARNING: C:/Users/Administrator/workspace/xgboost-win64_release_1.5.1/src/learner.cc:1115: Starting in XGBoost 1.3.0, the default evaluation metric used with the objective 'binary:logistic' was changed from 'error' to 'logloss'. Explicitly set eval_metric if you'd like to restore the old behavior.\n"
     ]
    },
    {
     "name": "stderr",
     "output_type": "stream",
     "text": [
      "C:\\Users\\DELL\\anaconda3\\lib\\site-packages\\xgboost\\sklearn.py:1224: UserWarning: The use of label encoder in XGBClassifier is deprecated and will be removed in a future release. To remove this warning, do the following: 1) Pass option use_label_encoder=False when constructing XGBClassifier object; and 2) Encode your labels (y) as integers starting with 0, i.e. 0, 1, 2, ..., [num_class - 1].\n",
      "  warnings.warn(label_encoder_deprecation_msg, UserWarning)\n"
     ]
    },
    {
     "name": "stdout",
     "output_type": "stream",
     "text": [
      "[11:03:35] WARNING: C:/Users/Administrator/workspace/xgboost-win64_release_1.5.1/src/learner.cc:1115: Starting in XGBoost 1.3.0, the default evaluation metric used with the objective 'binary:logistic' was changed from 'error' to 'logloss'. Explicitly set eval_metric if you'd like to restore the old behavior.\n"
     ]
    },
    {
     "name": "stderr",
     "output_type": "stream",
     "text": [
      "C:\\Users\\DELL\\anaconda3\\lib\\site-packages\\xgboost\\sklearn.py:1224: UserWarning: The use of label encoder in XGBClassifier is deprecated and will be removed in a future release. To remove this warning, do the following: 1) Pass option use_label_encoder=False when constructing XGBClassifier object; and 2) Encode your labels (y) as integers starting with 0, i.e. 0, 1, 2, ..., [num_class - 1].\n",
      "  warnings.warn(label_encoder_deprecation_msg, UserWarning)\n"
     ]
    },
    {
     "name": "stdout",
     "output_type": "stream",
     "text": [
      "[11:03:36] WARNING: C:/Users/Administrator/workspace/xgboost-win64_release_1.5.1/src/learner.cc:1115: Starting in XGBoost 1.3.0, the default evaluation metric used with the objective 'binary:logistic' was changed from 'error' to 'logloss'. Explicitly set eval_metric if you'd like to restore the old behavior.\n"
     ]
    },
    {
     "name": "stderr",
     "output_type": "stream",
     "text": [
      "C:\\Users\\DELL\\anaconda3\\lib\\site-packages\\xgboost\\sklearn.py:1224: UserWarning: The use of label encoder in XGBClassifier is deprecated and will be removed in a future release. To remove this warning, do the following: 1) Pass option use_label_encoder=False when constructing XGBClassifier object; and 2) Encode your labels (y) as integers starting with 0, i.e. 0, 1, 2, ..., [num_class - 1].\n",
      "  warnings.warn(label_encoder_deprecation_msg, UserWarning)\n"
     ]
    },
    {
     "name": "stdout",
     "output_type": "stream",
     "text": [
      "[11:03:37] WARNING: C:/Users/Administrator/workspace/xgboost-win64_release_1.5.1/src/learner.cc:1115: Starting in XGBoost 1.3.0, the default evaluation metric used with the objective 'binary:logistic' was changed from 'error' to 'logloss'. Explicitly set eval_metric if you'd like to restore the old behavior.\n"
     ]
    },
    {
     "name": "stderr",
     "output_type": "stream",
     "text": [
      "C:\\Users\\DELL\\anaconda3\\lib\\site-packages\\xgboost\\sklearn.py:1224: UserWarning: The use of label encoder in XGBClassifier is deprecated and will be removed in a future release. To remove this warning, do the following: 1) Pass option use_label_encoder=False when constructing XGBClassifier object; and 2) Encode your labels (y) as integers starting with 0, i.e. 0, 1, 2, ..., [num_class - 1].\n",
      "  warnings.warn(label_encoder_deprecation_msg, UserWarning)\n"
     ]
    },
    {
     "name": "stdout",
     "output_type": "stream",
     "text": [
      "[11:03:37] WARNING: C:/Users/Administrator/workspace/xgboost-win64_release_1.5.1/src/learner.cc:1115: Starting in XGBoost 1.3.0, the default evaluation metric used with the objective 'binary:logistic' was changed from 'error' to 'logloss'. Explicitly set eval_metric if you'd like to restore the old behavior.\n"
     ]
    },
    {
     "name": "stderr",
     "output_type": "stream",
     "text": [
      "C:\\Users\\DELL\\anaconda3\\lib\\site-packages\\xgboost\\sklearn.py:1224: UserWarning: The use of label encoder in XGBClassifier is deprecated and will be removed in a future release. To remove this warning, do the following: 1) Pass option use_label_encoder=False when constructing XGBClassifier object; and 2) Encode your labels (y) as integers starting with 0, i.e. 0, 1, 2, ..., [num_class - 1].\n",
      "  warnings.warn(label_encoder_deprecation_msg, UserWarning)\n"
     ]
    },
    {
     "name": "stdout",
     "output_type": "stream",
     "text": [
      "[11:03:38] WARNING: C:/Users/Administrator/workspace/xgboost-win64_release_1.5.1/src/learner.cc:1115: Starting in XGBoost 1.3.0, the default evaluation metric used with the objective 'binary:logistic' was changed from 'error' to 'logloss'. Explicitly set eval_metric if you'd like to restore the old behavior.\n"
     ]
    },
    {
     "name": "stderr",
     "output_type": "stream",
     "text": [
      "C:\\Users\\DELL\\anaconda3\\lib\\site-packages\\xgboost\\sklearn.py:1224: UserWarning: The use of label encoder in XGBClassifier is deprecated and will be removed in a future release. To remove this warning, do the following: 1) Pass option use_label_encoder=False when constructing XGBClassifier object; and 2) Encode your labels (y) as integers starting with 0, i.e. 0, 1, 2, ..., [num_class - 1].\n",
      "  warnings.warn(label_encoder_deprecation_msg, UserWarning)\n"
     ]
    },
    {
     "name": "stdout",
     "output_type": "stream",
     "text": [
      "[11:03:39] WARNING: C:/Users/Administrator/workspace/xgboost-win64_release_1.5.1/src/learner.cc:1115: Starting in XGBoost 1.3.0, the default evaluation metric used with the objective 'binary:logistic' was changed from 'error' to 'logloss'. Explicitly set eval_metric if you'd like to restore the old behavior.\n"
     ]
    },
    {
     "name": "stderr",
     "output_type": "stream",
     "text": [
      "C:\\Users\\DELL\\anaconda3\\lib\\site-packages\\xgboost\\sklearn.py:1224: UserWarning: The use of label encoder in XGBClassifier is deprecated and will be removed in a future release. To remove this warning, do the following: 1) Pass option use_label_encoder=False when constructing XGBClassifier object; and 2) Encode your labels (y) as integers starting with 0, i.e. 0, 1, 2, ..., [num_class - 1].\n",
      "  warnings.warn(label_encoder_deprecation_msg, UserWarning)\n"
     ]
    },
    {
     "name": "stdout",
     "output_type": "stream",
     "text": [
      "[11:03:40] WARNING: C:/Users/Administrator/workspace/xgboost-win64_release_1.5.1/src/learner.cc:1115: Starting in XGBoost 1.3.0, the default evaluation metric used with the objective 'binary:logistic' was changed from 'error' to 'logloss'. Explicitly set eval_metric if you'd like to restore the old behavior.\n"
     ]
    },
    {
     "name": "stderr",
     "output_type": "stream",
     "text": [
      "C:\\Users\\DELL\\anaconda3\\lib\\site-packages\\xgboost\\sklearn.py:1224: UserWarning: The use of label encoder in XGBClassifier is deprecated and will be removed in a future release. To remove this warning, do the following: 1) Pass option use_label_encoder=False when constructing XGBClassifier object; and 2) Encode your labels (y) as integers starting with 0, i.e. 0, 1, 2, ..., [num_class - 1].\n",
      "  warnings.warn(label_encoder_deprecation_msg, UserWarning)\n"
     ]
    },
    {
     "name": "stdout",
     "output_type": "stream",
     "text": [
      "[11:03:40] WARNING: C:/Users/Administrator/workspace/xgboost-win64_release_1.5.1/src/learner.cc:1115: Starting in XGBoost 1.3.0, the default evaluation metric used with the objective 'binary:logistic' was changed from 'error' to 'logloss'. Explicitly set eval_metric if you'd like to restore the old behavior.\n"
     ]
    },
    {
     "name": "stderr",
     "output_type": "stream",
     "text": [
      "C:\\Users\\DELL\\anaconda3\\lib\\site-packages\\xgboost\\sklearn.py:1224: UserWarning: The use of label encoder in XGBClassifier is deprecated and will be removed in a future release. To remove this warning, do the following: 1) Pass option use_label_encoder=False when constructing XGBClassifier object; and 2) Encode your labels (y) as integers starting with 0, i.e. 0, 1, 2, ..., [num_class - 1].\n",
      "  warnings.warn(label_encoder_deprecation_msg, UserWarning)\n"
     ]
    },
    {
     "name": "stdout",
     "output_type": "stream",
     "text": [
      "[11:03:41] WARNING: C:/Users/Administrator/workspace/xgboost-win64_release_1.5.1/src/learner.cc:1115: Starting in XGBoost 1.3.0, the default evaluation metric used with the objective 'binary:logistic' was changed from 'error' to 'logloss'. Explicitly set eval_metric if you'd like to restore the old behavior.\n"
     ]
    },
    {
     "name": "stderr",
     "output_type": "stream",
     "text": [
      "C:\\Users\\DELL\\anaconda3\\lib\\site-packages\\xgboost\\sklearn.py:1224: UserWarning: The use of label encoder in XGBClassifier is deprecated and will be removed in a future release. To remove this warning, do the following: 1) Pass option use_label_encoder=False when constructing XGBClassifier object; and 2) Encode your labels (y) as integers starting with 0, i.e. 0, 1, 2, ..., [num_class - 1].\n",
      "  warnings.warn(label_encoder_deprecation_msg, UserWarning)\n"
     ]
    },
    {
     "name": "stdout",
     "output_type": "stream",
     "text": [
      "[11:03:42] WARNING: C:/Users/Administrator/workspace/xgboost-win64_release_1.5.1/src/learner.cc:1115: Starting in XGBoost 1.3.0, the default evaluation metric used with the objective 'binary:logistic' was changed from 'error' to 'logloss'. Explicitly set eval_metric if you'd like to restore the old behavior.\n"
     ]
    },
    {
     "name": "stderr",
     "output_type": "stream",
     "text": [
      "C:\\Users\\DELL\\anaconda3\\lib\\site-packages\\xgboost\\sklearn.py:1224: UserWarning: The use of label encoder in XGBClassifier is deprecated and will be removed in a future release. To remove this warning, do the following: 1) Pass option use_label_encoder=False when constructing XGBClassifier object; and 2) Encode your labels (y) as integers starting with 0, i.e. 0, 1, 2, ..., [num_class - 1].\n",
      "  warnings.warn(label_encoder_deprecation_msg, UserWarning)\n"
     ]
    },
    {
     "name": "stdout",
     "output_type": "stream",
     "text": [
      "[11:03:43] WARNING: C:/Users/Administrator/workspace/xgboost-win64_release_1.5.1/src/learner.cc:1115: Starting in XGBoost 1.3.0, the default evaluation metric used with the objective 'binary:logistic' was changed from 'error' to 'logloss'. Explicitly set eval_metric if you'd like to restore the old behavior.\n"
     ]
    },
    {
     "name": "stderr",
     "output_type": "stream",
     "text": [
      "C:\\Users\\DELL\\anaconda3\\lib\\site-packages\\xgboost\\sklearn.py:1224: UserWarning: The use of label encoder in XGBClassifier is deprecated and will be removed in a future release. To remove this warning, do the following: 1) Pass option use_label_encoder=False when constructing XGBClassifier object; and 2) Encode your labels (y) as integers starting with 0, i.e. 0, 1, 2, ..., [num_class - 1].\n",
      "  warnings.warn(label_encoder_deprecation_msg, UserWarning)\n"
     ]
    },
    {
     "name": "stdout",
     "output_type": "stream",
     "text": [
      "[11:03:43] WARNING: C:/Users/Administrator/workspace/xgboost-win64_release_1.5.1/src/learner.cc:1115: Starting in XGBoost 1.3.0, the default evaluation metric used with the objective 'binary:logistic' was changed from 'error' to 'logloss'. Explicitly set eval_metric if you'd like to restore the old behavior.\n"
     ]
    },
    {
     "name": "stderr",
     "output_type": "stream",
     "text": [
      "C:\\Users\\DELL\\anaconda3\\lib\\site-packages\\xgboost\\sklearn.py:1224: UserWarning: The use of label encoder in XGBClassifier is deprecated and will be removed in a future release. To remove this warning, do the following: 1) Pass option use_label_encoder=False when constructing XGBClassifier object; and 2) Encode your labels (y) as integers starting with 0, i.e. 0, 1, 2, ..., [num_class - 1].\n",
      "  warnings.warn(label_encoder_deprecation_msg, UserWarning)\n"
     ]
    },
    {
     "name": "stdout",
     "output_type": "stream",
     "text": [
      "[11:03:44] WARNING: C:/Users/Administrator/workspace/xgboost-win64_release_1.5.1/src/learner.cc:1115: Starting in XGBoost 1.3.0, the default evaluation metric used with the objective 'binary:logistic' was changed from 'error' to 'logloss'. Explicitly set eval_metric if you'd like to restore the old behavior.\n"
     ]
    },
    {
     "name": "stderr",
     "output_type": "stream",
     "text": [
      "C:\\Users\\DELL\\anaconda3\\lib\\site-packages\\xgboost\\sklearn.py:1224: UserWarning: The use of label encoder in XGBClassifier is deprecated and will be removed in a future release. To remove this warning, do the following: 1) Pass option use_label_encoder=False when constructing XGBClassifier object; and 2) Encode your labels (y) as integers starting with 0, i.e. 0, 1, 2, ..., [num_class - 1].\n",
      "  warnings.warn(label_encoder_deprecation_msg, UserWarning)\n"
     ]
    },
    {
     "name": "stdout",
     "output_type": "stream",
     "text": [
      "[11:03:45] WARNING: C:/Users/Administrator/workspace/xgboost-win64_release_1.5.1/src/learner.cc:1115: Starting in XGBoost 1.3.0, the default evaluation metric used with the objective 'binary:logistic' was changed from 'error' to 'logloss'. Explicitly set eval_metric if you'd like to restore the old behavior.\n"
     ]
    },
    {
     "name": "stderr",
     "output_type": "stream",
     "text": [
      "C:\\Users\\DELL\\anaconda3\\lib\\site-packages\\xgboost\\sklearn.py:1224: UserWarning: The use of label encoder in XGBClassifier is deprecated and will be removed in a future release. To remove this warning, do the following: 1) Pass option use_label_encoder=False when constructing XGBClassifier object; and 2) Encode your labels (y) as integers starting with 0, i.e. 0, 1, 2, ..., [num_class - 1].\n",
      "  warnings.warn(label_encoder_deprecation_msg, UserWarning)\n"
     ]
    },
    {
     "name": "stdout",
     "output_type": "stream",
     "text": [
      "[11:03:46] WARNING: C:/Users/Administrator/workspace/xgboost-win64_release_1.5.1/src/learner.cc:1115: Starting in XGBoost 1.3.0, the default evaluation metric used with the objective 'binary:logistic' was changed from 'error' to 'logloss'. Explicitly set eval_metric if you'd like to restore the old behavior.\n"
     ]
    },
    {
     "name": "stderr",
     "output_type": "stream",
     "text": [
      "C:\\Users\\DELL\\anaconda3\\lib\\site-packages\\xgboost\\sklearn.py:1224: UserWarning: The use of label encoder in XGBClassifier is deprecated and will be removed in a future release. To remove this warning, do the following: 1) Pass option use_label_encoder=False when constructing XGBClassifier object; and 2) Encode your labels (y) as integers starting with 0, i.e. 0, 1, 2, ..., [num_class - 1].\n",
      "  warnings.warn(label_encoder_deprecation_msg, UserWarning)\n"
     ]
    },
    {
     "name": "stdout",
     "output_type": "stream",
     "text": [
      "[11:03:47] WARNING: C:/Users/Administrator/workspace/xgboost-win64_release_1.5.1/src/learner.cc:1115: Starting in XGBoost 1.3.0, the default evaluation metric used with the objective 'binary:logistic' was changed from 'error' to 'logloss'. Explicitly set eval_metric if you'd like to restore the old behavior.\n"
     ]
    },
    {
     "name": "stderr",
     "output_type": "stream",
     "text": [
      "C:\\Users\\DELL\\anaconda3\\lib\\site-packages\\xgboost\\sklearn.py:1224: UserWarning: The use of label encoder in XGBClassifier is deprecated and will be removed in a future release. To remove this warning, do the following: 1) Pass option use_label_encoder=False when constructing XGBClassifier object; and 2) Encode your labels (y) as integers starting with 0, i.e. 0, 1, 2, ..., [num_class - 1].\n",
      "  warnings.warn(label_encoder_deprecation_msg, UserWarning)\n"
     ]
    },
    {
     "name": "stdout",
     "output_type": "stream",
     "text": [
      "[11:03:47] WARNING: C:/Users/Administrator/workspace/xgboost-win64_release_1.5.1/src/learner.cc:1115: Starting in XGBoost 1.3.0, the default evaluation metric used with the objective 'binary:logistic' was changed from 'error' to 'logloss'. Explicitly set eval_metric if you'd like to restore the old behavior.\n"
     ]
    },
    {
     "name": "stderr",
     "output_type": "stream",
     "text": [
      "C:\\Users\\DELL\\anaconda3\\lib\\site-packages\\xgboost\\sklearn.py:1224: UserWarning: The use of label encoder in XGBClassifier is deprecated and will be removed in a future release. To remove this warning, do the following: 1) Pass option use_label_encoder=False when constructing XGBClassifier object; and 2) Encode your labels (y) as integers starting with 0, i.e. 0, 1, 2, ..., [num_class - 1].\n",
      "  warnings.warn(label_encoder_deprecation_msg, UserWarning)\n"
     ]
    },
    {
     "name": "stdout",
     "output_type": "stream",
     "text": [
      "[11:03:48] WARNING: C:/Users/Administrator/workspace/xgboost-win64_release_1.5.1/src/learner.cc:1115: Starting in XGBoost 1.3.0, the default evaluation metric used with the objective 'binary:logistic' was changed from 'error' to 'logloss'. Explicitly set eval_metric if you'd like to restore the old behavior.\n"
     ]
    },
    {
     "name": "stderr",
     "output_type": "stream",
     "text": [
      "C:\\Users\\DELL\\anaconda3\\lib\\site-packages\\xgboost\\sklearn.py:1224: UserWarning: The use of label encoder in XGBClassifier is deprecated and will be removed in a future release. To remove this warning, do the following: 1) Pass option use_label_encoder=False when constructing XGBClassifier object; and 2) Encode your labels (y) as integers starting with 0, i.e. 0, 1, 2, ..., [num_class - 1].\n",
      "  warnings.warn(label_encoder_deprecation_msg, UserWarning)\n"
     ]
    },
    {
     "name": "stdout",
     "output_type": "stream",
     "text": [
      "[11:03:49] WARNING: C:/Users/Administrator/workspace/xgboost-win64_release_1.5.1/src/learner.cc:1115: Starting in XGBoost 1.3.0, the default evaluation metric used with the objective 'binary:logistic' was changed from 'error' to 'logloss'. Explicitly set eval_metric if you'd like to restore the old behavior.\n"
     ]
    },
    {
     "name": "stderr",
     "output_type": "stream",
     "text": [
      "C:\\Users\\DELL\\anaconda3\\lib\\site-packages\\xgboost\\sklearn.py:1224: UserWarning: The use of label encoder in XGBClassifier is deprecated and will be removed in a future release. To remove this warning, do the following: 1) Pass option use_label_encoder=False when constructing XGBClassifier object; and 2) Encode your labels (y) as integers starting with 0, i.e. 0, 1, 2, ..., [num_class - 1].\n",
      "  warnings.warn(label_encoder_deprecation_msg, UserWarning)\n"
     ]
    },
    {
     "name": "stdout",
     "output_type": "stream",
     "text": [
      "[11:03:50] WARNING: C:/Users/Administrator/workspace/xgboost-win64_release_1.5.1/src/learner.cc:1115: Starting in XGBoost 1.3.0, the default evaluation metric used with the objective 'binary:logistic' was changed from 'error' to 'logloss'. Explicitly set eval_metric if you'd like to restore the old behavior.\n"
     ]
    },
    {
     "name": "stderr",
     "output_type": "stream",
     "text": [
      "C:\\Users\\DELL\\AppData\\Roaming\\Python\\Python39\\site-packages\\sklearn\\model_selection\\_search.py:292: UserWarning: The total space of parameters 2 is smaller than n_iter=10. Running 2 iterations. For exhaustive searches, use GridSearchCV.\n",
      "  warnings.warn(\n",
      "C:\\Users\\DELL\\AppData\\Roaming\\Python\\Python39\\site-packages\\sklearn\\model_selection\\_validation.py:372: FitFailedWarning: \n",
      "2 fits failed out of a total of 4.\n",
      "The score on these train-test partitions for these parameters will be set to nan.\n",
      "If these failures are not expected, you can try to debug them by setting error_score='raise'.\n",
      "\n",
      "Below are more details about the failures:\n",
      "--------------------------------------------------------------------------------\n",
      "2 fits failed with the following error:\n",
      "Traceback (most recent call last):\n",
      "  File \"C:\\Users\\DELL\\AppData\\Roaming\\Python\\Python39\\site-packages\\sklearn\\model_selection\\_validation.py\", line 680, in _fit_and_score\n",
      "    estimator.fit(X_train, y_train, **fit_params)\n",
      "  File \"C:\\Users\\DELL\\AppData\\Roaming\\Python\\Python39\\site-packages\\sklearn\\linear_model\\_logistic.py\", line 1461, in fit\n",
      "    solver = _check_solver(self.solver, self.penalty, self.dual)\n",
      "  File \"C:\\Users\\DELL\\AppData\\Roaming\\Python\\Python39\\site-packages\\sklearn\\linear_model\\_logistic.py\", line 447, in _check_solver\n",
      "    raise ValueError(\n",
      "ValueError: Solver lbfgs supports only 'l2' or 'none' penalties, got l1 penalty.\n",
      "\n",
      "  warnings.warn(some_fits_failed_message, FitFailedWarning)\n",
      "C:\\Users\\DELL\\AppData\\Roaming\\Python\\Python39\\site-packages\\sklearn\\model_selection\\_search.py:969: UserWarning: One or more of the test scores are non-finite: [       nan 0.99632868]\n",
      "  warnings.warn(\n",
      "C:\\Users\\DELL\\AppData\\Roaming\\Python\\Python39\\site-packages\\sklearn\\model_selection\\_search.py:292: UserWarning: The total space of parameters 2 is smaller than n_iter=10. Running 2 iterations. For exhaustive searches, use GridSearchCV.\n",
      "  warnings.warn(\n",
      "C:\\Users\\DELL\\AppData\\Roaming\\Python\\Python39\\site-packages\\sklearn\\model_selection\\_search.py:292: UserWarning: The total space of parameters 3 is smaller than n_iter=10. Running 3 iterations. For exhaustive searches, use GridSearchCV.\n",
      "  warnings.warn(\n"
     ]
    },
    {
     "data": {
      "text/html": [
       "<div>\n",
       "<style scoped>\n",
       "    .dataframe tbody tr th:only-of-type {\n",
       "        vertical-align: middle;\n",
       "    }\n",
       "\n",
       "    .dataframe tbody tr th {\n",
       "        vertical-align: top;\n",
       "    }\n",
       "\n",
       "    .dataframe thead th {\n",
       "        text-align: right;\n",
       "    }\n",
       "</style>\n",
       "<table border=\"1\" class=\"dataframe\">\n",
       "  <thead>\n",
       "    <tr style=\"text-align: right;\">\n",
       "      <th></th>\n",
       "      <th>model</th>\n",
       "      <th>best_score</th>\n",
       "      <th>best_params</th>\n",
       "    </tr>\n",
       "  </thead>\n",
       "  <tbody>\n",
       "    <tr>\n",
       "      <th>0</th>\n",
       "      <td>SVM</td>\n",
       "      <td>0.994573</td>\n",
       "      <td>{'C': 10}</td>\n",
       "    </tr>\n",
       "    <tr>\n",
       "      <th>1</th>\n",
       "      <td>xgboost</td>\n",
       "      <td>0.992019</td>\n",
       "      <td>{'max_depth': 4, 'gamma': 0.5}</td>\n",
       "    </tr>\n",
       "    <tr>\n",
       "      <th>2</th>\n",
       "      <td>logisticRegression</td>\n",
       "      <td>0.996329</td>\n",
       "      <td>{'penalty': 'l2'}</td>\n",
       "    </tr>\n",
       "    <tr>\n",
       "      <th>3</th>\n",
       "      <td>DecisionTree</td>\n",
       "      <td>0.987231</td>\n",
       "      <td>{'max_depth': 4.6}</td>\n",
       "    </tr>\n",
       "    <tr>\n",
       "      <th>4</th>\n",
       "      <td>RandomForest</td>\n",
       "      <td>0.989146</td>\n",
       "      <td>{'max_depth': 8}</td>\n",
       "    </tr>\n",
       "  </tbody>\n",
       "</table>\n",
       "</div>"
      ],
      "text/plain": [
       "                model  best_score                     best_params\n",
       "0                 SVM    0.994573                       {'C': 10}\n",
       "1             xgboost    0.992019  {'max_depth': 4, 'gamma': 0.5}\n",
       "2  logisticRegression    0.996329               {'penalty': 'l2'}\n",
       "3        DecisionTree    0.987231              {'max_depth': 4.6}\n",
       "4        RandomForest    0.989146                {'max_depth': 8}"
      ]
     },
     "execution_count": 44,
     "metadata": {},
     "output_type": "execute_result"
    }
   ],
   "source": [
    "scores = []\n",
    "\n",
    "for model_name, mp in models.items():\n",
    "    clf =  RandomizedSearchCV(mp['model'],mp['params'] ,cv= 2, return_train_score=False)\n",
    "    clf.fit(X_train, y_train)\n",
    "    scores.append({\n",
    "        'model': model_name,\n",
    "        'best_score': clf.best_score_,\n",
    "        'best_params': clf.best_params_\n",
    "    })\n",
    "    \n",
    "df_model = pd.DataFrame(scores,columns=['model','best_score','best_params'])\n",
    "df_model"
   ]
  },
  {
   "cell_type": "code",
   "execution_count": 47,
   "metadata": {},
   "outputs": [
    {
     "data": {
      "text/plain": [
       "LogisticRegression()"
      ]
     },
     "execution_count": 47,
     "metadata": {},
     "output_type": "execute_result"
    }
   ],
   "source": [
    "logistic_model = LogisticRegression(penalty='l2')\n",
    "logistic_model.fit(X_train,y_train)"
   ]
  },
  {
   "cell_type": "code",
   "execution_count": 48,
   "metadata": {},
   "outputs": [],
   "source": [
    "predicted_result = logistic_model.predict(X_test)"
   ]
  },
  {
   "cell_type": "code",
   "execution_count": 51,
   "metadata": {},
   "outputs": [
    {
     "name": "stdout",
     "output_type": "stream",
     "text": [
      "              precision    recall  f1-score   support\n",
      "\n",
      "           0       1.00      1.00      1.00      1470\n",
      "           1       1.00      1.00      1.00      1215\n",
      "\n",
      "    accuracy                           1.00      2685\n",
      "   macro avg       1.00      1.00      1.00      2685\n",
      "weighted avg       1.00      1.00      1.00      2685\n",
      "\n"
     ]
    }
   ],
   "source": [
    "print(classification_report(y_test,predicted_result))"
   ]
  },
  {
   "cell_type": "code",
   "execution_count": 57,
   "metadata": {},
   "outputs": [
    {
     "name": "stdout",
     "output_type": "stream",
     "text": [
      "0.9962756052141527\n"
     ]
    }
   ],
   "source": [
    "print(accuracy_score(y_test,predicted_result))"
   ]
  },
  {
   "cell_type": "markdown",
   "metadata": {},
   "source": [
    "<b>The model has an accuracy of 99.6% on the test data. This model can be used to predict in which cluster the new customer would likely to fall"
   ]
  }
 ],
 "metadata": {
  "colab": {
   "name": "credit_card.ipynb",
   "provenance": []
  },
  "kernelspec": {
   "display_name": "Python 3 (ipykernel)",
   "language": "python",
   "name": "python3"
  },
  "language_info": {
   "codemirror_mode": {
    "name": "ipython",
    "version": 3
   },
   "file_extension": ".py",
   "mimetype": "text/x-python",
   "name": "python",
   "nbconvert_exporter": "python",
   "pygments_lexer": "ipython3",
   "version": "3.9.7"
  },
  "widgets": {
   "application/vnd.jupyter.widget-state+json": {
    "2dfaab5be1774cebaf4ba7179cbd9b7a": {
     "model_module": "@jupyter-widgets/controls",
     "model_module_version": "1.5.0",
     "model_name": "ProgressStyleModel",
     "state": {
      "_model_module": "@jupyter-widgets/controls",
      "_model_module_version": "1.5.0",
      "_model_name": "ProgressStyleModel",
      "_view_count": null,
      "_view_module": "@jupyter-widgets/base",
      "_view_module_version": "1.2.0",
      "_view_name": "StyleView",
      "bar_color": null,
      "description_width": ""
     }
    },
    "69f7701d7b6f4799a5a8198c3b7f98b7": {
     "model_module": "@jupyter-widgets/controls",
     "model_module_version": "1.5.0",
     "model_name": "ProgressStyleModel",
     "state": {
      "_model_module": "@jupyter-widgets/controls",
      "_model_module_version": "1.5.0",
      "_model_name": "ProgressStyleModel",
      "_view_count": null,
      "_view_module": "@jupyter-widgets/base",
      "_view_module_version": "1.2.0",
      "_view_name": "StyleView",
      "bar_color": null,
      "description_width": ""
     }
    },
    "8104e79600414df4acdda12a6435bcea": {
     "model_module": "@jupyter-widgets/controls",
     "model_module_version": "1.5.0",
     "model_name": "ProgressStyleModel",
     "state": {
      "_model_module": "@jupyter-widgets/controls",
      "_model_module_version": "1.5.0",
      "_model_name": "ProgressStyleModel",
      "_view_count": null,
      "_view_module": "@jupyter-widgets/base",
      "_view_module_version": "1.2.0",
      "_view_name": "StyleView",
      "bar_color": null,
      "description_width": ""
     }
    },
    "81b4707fd37443fdbdc6f11b5997b9df": {
     "model_module": "@jupyter-widgets/base",
     "model_module_version": "1.2.0",
     "model_name": "LayoutModel",
     "state": {
      "_model_module": "@jupyter-widgets/base",
      "_model_module_version": "1.2.0",
      "_model_name": "LayoutModel",
      "_view_count": null,
      "_view_module": "@jupyter-widgets/base",
      "_view_module_version": "1.2.0",
      "_view_name": "LayoutView",
      "align_content": null,
      "align_items": null,
      "align_self": null,
      "border": null,
      "bottom": null,
      "display": null,
      "flex": null,
      "flex_flow": null,
      "grid_area": null,
      "grid_auto_columns": null,
      "grid_auto_flow": null,
      "grid_auto_rows": null,
      "grid_column": null,
      "grid_gap": null,
      "grid_row": null,
      "grid_template_areas": null,
      "grid_template_columns": null,
      "grid_template_rows": null,
      "height": null,
      "justify_content": null,
      "justify_items": null,
      "left": null,
      "margin": null,
      "max_height": null,
      "max_width": null,
      "min_height": null,
      "min_width": null,
      "object_fit": null,
      "object_position": null,
      "order": null,
      "overflow": null,
      "overflow_x": null,
      "overflow_y": null,
      "padding": null,
      "right": null,
      "top": null,
      "visibility": null,
      "width": null
     }
    },
    "b68f4a526c64464daa15bb146d41b440": {
     "model_module": "@jupyter-widgets/controls",
     "model_module_version": "1.5.0",
     "model_name": "IntProgressModel",
     "state": {
      "_dom_classes": [],
      "_model_module": "@jupyter-widgets/controls",
      "_model_module_version": "1.5.0",
      "_model_name": "IntProgressModel",
      "_view_count": null,
      "_view_module": "@jupyter-widgets/controls",
      "_view_module_version": "1.5.0",
      "_view_name": "ProgressView",
      "bar_style": "",
      "description": "Processing: ",
      "description_tooltip": null,
      "layout": "IPY_MODEL_ceabd243ce074708be57701b23425f37",
      "max": 3,
      "min": 0,
      "orientation": "horizontal",
      "style": "IPY_MODEL_2dfaab5be1774cebaf4ba7179cbd9b7a",
      "value": 3
     }
    },
    "ceabd243ce074708be57701b23425f37": {
     "model_module": "@jupyter-widgets/base",
     "model_module_version": "1.2.0",
     "model_name": "LayoutModel",
     "state": {
      "_model_module": "@jupyter-widgets/base",
      "_model_module_version": "1.2.0",
      "_model_name": "LayoutModel",
      "_view_count": null,
      "_view_module": "@jupyter-widgets/base",
      "_view_module_version": "1.2.0",
      "_view_name": "LayoutView",
      "align_content": null,
      "align_items": null,
      "align_self": null,
      "border": null,
      "bottom": null,
      "display": null,
      "flex": null,
      "flex_flow": null,
      "grid_area": null,
      "grid_auto_columns": null,
      "grid_auto_flow": null,
      "grid_auto_rows": null,
      "grid_column": null,
      "grid_gap": null,
      "grid_row": null,
      "grid_template_areas": null,
      "grid_template_columns": null,
      "grid_template_rows": null,
      "height": null,
      "justify_content": null,
      "justify_items": null,
      "left": null,
      "margin": null,
      "max_height": null,
      "max_width": null,
      "min_height": null,
      "min_width": null,
      "object_fit": null,
      "object_position": null,
      "order": null,
      "overflow": null,
      "overflow_x": null,
      "overflow_y": null,
      "padding": null,
      "right": null,
      "top": null,
      "visibility": null,
      "width": null
     }
    },
    "d8fa76f4628d45db8031458ff3adedaa": {
     "model_module": "@jupyter-widgets/base",
     "model_module_version": "1.2.0",
     "model_name": "LayoutModel",
     "state": {
      "_model_module": "@jupyter-widgets/base",
      "_model_module_version": "1.2.0",
      "_model_name": "LayoutModel",
      "_view_count": null,
      "_view_module": "@jupyter-widgets/base",
      "_view_module_version": "1.2.0",
      "_view_name": "LayoutView",
      "align_content": null,
      "align_items": null,
      "align_self": null,
      "border": null,
      "bottom": null,
      "display": null,
      "flex": null,
      "flex_flow": null,
      "grid_area": null,
      "grid_auto_columns": null,
      "grid_auto_flow": null,
      "grid_auto_rows": null,
      "grid_column": null,
      "grid_gap": null,
      "grid_row": null,
      "grid_template_areas": null,
      "grid_template_columns": null,
      "grid_template_rows": null,
      "height": null,
      "justify_content": null,
      "justify_items": null,
      "left": null,
      "margin": null,
      "max_height": null,
      "max_width": null,
      "min_height": null,
      "min_width": null,
      "object_fit": null,
      "object_position": null,
      "order": null,
      "overflow": null,
      "overflow_x": null,
      "overflow_y": null,
      "padding": null,
      "right": null,
      "top": null,
      "visibility": null,
      "width": null
     }
    },
    "eb6f9a9fee4448aaa1a819e9c804cafd": {
     "model_module": "@jupyter-widgets/controls",
     "model_module_version": "1.5.0",
     "model_name": "IntProgressModel",
     "state": {
      "_dom_classes": [],
      "_model_module": "@jupyter-widgets/controls",
      "_model_module_version": "1.5.0",
      "_model_name": "IntProgressModel",
      "_view_count": null,
      "_view_module": "@jupyter-widgets/controls",
      "_view_module_version": "1.5.0",
      "_view_name": "ProgressView",
      "bar_style": "",
      "description": "Processing: ",
      "description_tooltip": null,
      "layout": "IPY_MODEL_d8fa76f4628d45db8031458ff3adedaa",
      "max": 5,
      "min": 0,
      "orientation": "horizontal",
      "style": "IPY_MODEL_8104e79600414df4acdda12a6435bcea",
      "value": 3
     }
    },
    "f85486de03d945b69a9314ceee2053d3": {
     "model_module": "@jupyter-widgets/controls",
     "model_module_version": "1.5.0",
     "model_name": "IntProgressModel",
     "state": {
      "_dom_classes": [],
      "_model_module": "@jupyter-widgets/controls",
      "_model_module_version": "1.5.0",
      "_model_name": "IntProgressModel",
      "_view_count": null,
      "_view_module": "@jupyter-widgets/controls",
      "_view_module_version": "1.5.0",
      "_view_name": "ProgressView",
      "bar_style": "",
      "description": "Processing: ",
      "description_tooltip": null,
      "layout": "IPY_MODEL_81b4707fd37443fdbdc6f11b5997b9df",
      "max": 3,
      "min": 0,
      "orientation": "horizontal",
      "style": "IPY_MODEL_69f7701d7b6f4799a5a8198c3b7f98b7",
      "value": 3
     }
    }
   }
  }
 },
 "nbformat": 4,
 "nbformat_minor": 1
}
